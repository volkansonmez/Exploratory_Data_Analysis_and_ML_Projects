{
 "cells": [
  {
   "cell_type": "markdown",
   "metadata": {},
   "source": [
    "### Notebook by [Volkan Sonmez](http://www.pythonicfool.com/)  \n",
    "### Logistic Regression model with a One-Layer-NN (from scratch) and KNN on Framingham Dataset \n",
    "##### [Pythonicfool GitHub Repository](https://github.com/volkansonmez/Exploratory_Data_Analysis_and_ML_Projects)\n",
    "\n"
   ]
  },
  {
   "cell_type": "markdown",
   "metadata": {},
   "source": [
    "## Table of contents\n",
    "\n",
    "1. [Introduction](#Introduction)\n",
    "\n",
    "2. [EDA and Building ML Model](#EDA_and_Building_ML_Model)\n",
    "\n",
    "3. [Conclusion](#Conclusion)"
   ]
  },
  {
   "cell_type": "markdown",
   "metadata": {},
   "source": [
    "## Introduction\n",
    "\n",
    "[[ go back to the top ]](#Table-of-contents)\n",
    "    \n",
    "Raw framingham.csv dataset is downloaded from Kaggle. \n",
    "\n",
    "Neural networks and K-nearest neigbors are coded from scratch and then trained with this dataset for logistic regression analysis. \n",
    "\n",
    "> The raw dataset can also be obtained here: https://github.com/volkansonmez/Exploratory_Data_Analysis_and_ML_Projects/blob/master/Framingham%20Dataset/framingham.csv"
   ]
  },
  {
   "cell_type": "markdown",
   "metadata": {},
   "source": [
    "## EDA_and_Building_ML_Model\n",
    "\n",
    "[[ go back to the top ]](#Table-of-contents)\n",
    "\n",
    "This notebook uses several Python packages that come standard with the Anaconda Python distribution. \n",
    "The primary libraries you need to run this notebook are:\n",
    "\n",
    "* **NumPy**: Provides a fast numerical array structure and helper functions.\n",
    "* **pandas**: Provides a DataFrame structure to store data in memory and work with it easily and efficiently.\n",
    "* **scikit-learn**: The essential Machine Learning package in Python.\n",
    "* **matplotlib**: Basic plotting library in Python; most other Python plotting libraries are built on top of it.\n",
    "* **Seaborn**: Advanced statistical plotting library.\n",
    "\n",
    "To make sure you have all of the packages you need, install them with `conda`:\n",
    "\n",
    "    conda install numpy pandas matplotlib torch\n",
    "\n",
    "\n",
    "#### How to build models for logistic regression training & analysis on this dataset: \n",
    "\n",
    "After cleaning the dataset, drop the NA values, check the feature scores with chi2 test. \n",
    "\n",
    "Create a one-layer neural network from scratch (not with PyTorch but with NumPy only) and train it. Do a grid search for optimum iterations, learning rate, and learning rate decay for obtaining the best test accuracy. \n",
    "\n",
    "Write KNN from scratch to see if it is possible to beat the deep learning method in test accuracy. Tweak the KNN just for this problem to adapt it to the data since it is mostly composed of \"0\" values in the target column (this is not recommended outside of this particular problem). Compare your results of sklearn's logistic regression algorithm. Show your results in the confusion matrix.\n",
    "\n",
    "BONUS: Create a more complex NN model with PyTorch sequential (a model with few layers) to see if increasing the model's complexity will help to reach better accuracy. \n",
    "\n",
    "This data is specifically selected for showing students that sometimes the data is not sufficient to reach a good accuracy regardless of any machine learning algorithm used. Increasing complexity sometimes is not necessary."
   ]
  },
  {
   "cell_type": "code",
   "execution_count": 2,
   "metadata": {},
   "outputs": [
    {
     "name": "stdout",
     "output_type": "stream",
     "text": [
      "4238\n",
      "   male  age  education  currentSmoker  cigsPerDay  BPMeds  prevalentStroke  \\\n",
      "0     1   39        4.0              0         0.0     0.0                0   \n",
      "1     0   46        2.0              0         0.0     0.0                0   \n",
      "2     1   48        1.0              1        20.0     0.0                0   \n",
      "3     0   61        3.0              1        30.0     0.0                0   \n",
      "4     0   46        3.0              1        23.0     0.0                0   \n",
      "\n",
      "   prevalentHyp  diabetes  totChol  sysBP  diaBP    BMI  heartRate  glucose  \\\n",
      "0             0         0    195.0  106.0   70.0  26.97       80.0     77.0   \n",
      "1             0         0    250.0  121.0   81.0  28.73       95.0     76.0   \n",
      "2             0         0    245.0  127.5   80.0  25.34       75.0     70.0   \n",
      "3             1         0    225.0  150.0   95.0  28.58       65.0    103.0   \n",
      "4             0         0    285.0  130.0   84.0  23.10       85.0     85.0   \n",
      "\n",
      "   TenYearCHD  \n",
      "0           0  \n",
      "1           0  \n",
      "2           0  \n",
      "3           1  \n",
      "4           0  \n"
     ]
    },
    {
     "data": {
      "text/plain": [
       "male                 0\n",
       "age                  0\n",
       "education          105\n",
       "currentSmoker        0\n",
       "cigsPerDay          29\n",
       "BPMeds              53\n",
       "prevalentStroke      0\n",
       "prevalentHyp         0\n",
       "diabetes             0\n",
       "totChol             50\n",
       "sysBP                0\n",
       "diaBP                0\n",
       "BMI                 19\n",
       "heartRate            1\n",
       "glucose            388\n",
       "TenYearCHD           0\n",
       "dtype: int64"
      ]
     },
     "execution_count": 2,
     "metadata": {},
     "output_type": "execute_result"
    }
   ],
   "source": [
    "import pandas as pd\n",
    "import numpy as np\n",
    "import matplotlib.pyplot as plt\n",
    "import seaborn as sns\n",
    "from sklearn.metrics import confusion_matrix\n",
    "%matplotlib inline\n",
    "\n",
    "# Import the dataset\n",
    "framingham_data = pd.read_csv(\"framingham.csv\") \n",
    "print(len(framingham_data))\n",
    "print(framingham_data[:5]) # visualize the first 5 instances of the dataset\n",
    "\n",
    "df = framingham_data # make a copy of the data to play with it\n",
    "df.isna().sum()\n",
    "\n",
    "# Unmark the below lines to check for duplicates if needed\n",
    "# duplicate_df = df[df.duplicated()]\n",
    "# print(duplicate_df)"
   ]
  },
  {
   "cell_type": "code",
   "execution_count": 3,
   "metadata": {},
   "outputs": [
    {
     "name": "stdout",
     "output_type": "stream",
     "text": [
      "(3656, 16)\n"
     ]
    },
    {
     "data": {
      "text/plain": [
       "male               0\n",
       "age                0\n",
       "education          0\n",
       "currentSmoker      0\n",
       "cigsPerDay         0\n",
       "BPMeds             0\n",
       "prevalentStroke    0\n",
       "prevalentHyp       0\n",
       "diabetes           0\n",
       "totChol            0\n",
       "sysBP              0\n",
       "diaBP              0\n",
       "BMI                0\n",
       "heartRate          0\n",
       "glucose            0\n",
       "TenYearCHD         0\n",
       "dtype: int64"
      ]
     },
     "execution_count": 3,
     "metadata": {},
     "output_type": "execute_result"
    }
   ],
   "source": [
    "# Drop the NaN values\n",
    "df = df.dropna()\n",
    "print(df.shape)\n",
    "# Check if there are any NaN values left in the dataset. \n",
    "df.isna().sum()\n"
   ]
  },
  {
   "cell_type": "code",
   "execution_count": 4,
   "metadata": {},
   "outputs": [
    {
     "data": {
      "text/plain": [
       "0    3099\n",
       "1     557\n",
       "Name: TenYearCHD, dtype: int64"
      ]
     },
     "execution_count": 4,
     "metadata": {},
     "output_type": "execute_result"
    }
   ],
   "source": [
    "# View the number of 1's and 0's in the dataset\n",
    "df.TenYearCHD.value_counts()"
   ]
  },
  {
   "cell_type": "code",
   "execution_count": 5,
   "metadata": {},
   "outputs": [
    {
     "name": "stdout",
     "output_type": "stream",
     "text": [
      "(3656, 16)\n",
      "              Specs       Score\n",
      "0              male   17.120430\n",
      "1               age  295.507761\n",
      "2         education    7.679797\n",
      "3     currentSmoker    0.686913\n",
      "4        cigsPerDay  156.567318\n",
      "5            BPMeds   28.153003\n",
      "6   prevalentStroke    8.497823\n",
      "7      prevalentHyp   82.967184\n",
      "8          diabetes   31.027987\n",
      "9           totChol  249.153078\n",
      "10            sysBP  669.506552\n",
      "11            diaBP  142.878574\n",
      "12              BMI   15.730717\n",
      "13        heartRate    2.919062\n",
      "14          glucose  379.583137\n",
      "(3656, 16)\n"
     ]
    }
   ],
   "source": [
    "# Check the feature scores \n",
    "print(df.shape)# the total number of attributes including the label\n",
    "\n",
    "from sklearn.feature_selection import SelectKBest\n",
    "from sklearn.feature_selection import chi2\n",
    "\n",
    "X = df.iloc[:,:-1]   # data\n",
    "y = df.iloc[:,-1]    # labels\n",
    "\n",
    "# check the scores\n",
    "bestfeatures = SelectKBest(score_func=chi2, k= \"all\")\n",
    "fit = bestfeatures.fit(X,y)\n",
    "dfscores = pd.DataFrame(fit.scores_)\n",
    "dfcolumns = pd.DataFrame(X.columns)\n",
    "\n",
    "# concat two dataframes for better visualization \n",
    "featureScores = pd.concat([dfcolumns, dfscores], axis=1, sort= False)\n",
    "featureScores.columns = ['Specs','Score']  \n",
    "print(featureScores)\n",
    "print(df.shape)"
   ]
  },
  {
   "cell_type": "code",
   "execution_count": null,
   "metadata": {},
   "outputs": [],
   "source": [
    "# Drop the unnecessary columns \n",
    "df = df.drop(['currentSmoker','education', 'heartRate', 'prevalentStroke'] ,axis=1, inplace=True)"
   ]
  },
  {
   "cell_type": "code",
   "execution_count": 7,
   "metadata": {},
   "outputs": [
    {
     "name": "stdout",
     "output_type": "stream",
     "text": [
      "(3656, 12)\n",
      "(3656, 11) (3656,)\n"
     ]
    },
    {
     "data": {
      "text/html": [
       "<div>\n",
       "<style scoped>\n",
       "    .dataframe tbody tr th:only-of-type {\n",
       "        vertical-align: middle;\n",
       "    }\n",
       "\n",
       "    .dataframe tbody tr th {\n",
       "        vertical-align: top;\n",
       "    }\n",
       "\n",
       "    .dataframe thead th {\n",
       "        text-align: right;\n",
       "    }\n",
       "</style>\n",
       "<table border=\"1\" class=\"dataframe\">\n",
       "  <thead>\n",
       "    <tr style=\"text-align: right;\">\n",
       "      <th></th>\n",
       "      <th>male</th>\n",
       "      <th>age</th>\n",
       "      <th>cigsPerDay</th>\n",
       "      <th>BPMeds</th>\n",
       "      <th>prevalentHyp</th>\n",
       "      <th>diabetes</th>\n",
       "      <th>totChol</th>\n",
       "      <th>sysBP</th>\n",
       "      <th>diaBP</th>\n",
       "      <th>BMI</th>\n",
       "      <th>glucose</th>\n",
       "    </tr>\n",
       "  </thead>\n",
       "  <tbody>\n",
       "    <tr>\n",
       "      <th>count</th>\n",
       "      <td>3656.000000</td>\n",
       "      <td>3656.000000</td>\n",
       "      <td>3656.000000</td>\n",
       "      <td>3656.000000</td>\n",
       "      <td>3656.000000</td>\n",
       "      <td>3656.000000</td>\n",
       "      <td>3656.000000</td>\n",
       "      <td>3656.000000</td>\n",
       "      <td>3656.000000</td>\n",
       "      <td>3656.000000</td>\n",
       "      <td>3656.000000</td>\n",
       "    </tr>\n",
       "    <tr>\n",
       "      <th>mean</th>\n",
       "      <td>0.443654</td>\n",
       "      <td>0.462038</td>\n",
       "      <td>0.128888</td>\n",
       "      <td>0.030361</td>\n",
       "      <td>0.311543</td>\n",
       "      <td>0.027079</td>\n",
       "      <td>0.254360</td>\n",
       "      <td>0.231054</td>\n",
       "      <td>0.369440</td>\n",
       "      <td>0.248284</td>\n",
       "      <td>0.118238</td>\n",
       "    </tr>\n",
       "    <tr>\n",
       "      <th>std</th>\n",
       "      <td>0.496883</td>\n",
       "      <td>0.225293</td>\n",
       "      <td>0.170270</td>\n",
       "      <td>0.171602</td>\n",
       "      <td>0.463187</td>\n",
       "      <td>0.162335</td>\n",
       "      <td>0.090547</td>\n",
       "      <td>0.104456</td>\n",
       "      <td>0.126718</td>\n",
       "      <td>0.098544</td>\n",
       "      <td>0.067543</td>\n",
       "    </tr>\n",
       "    <tr>\n",
       "      <th>min</th>\n",
       "      <td>0.000000</td>\n",
       "      <td>0.000000</td>\n",
       "      <td>0.000000</td>\n",
       "      <td>0.000000</td>\n",
       "      <td>0.000000</td>\n",
       "      <td>0.000000</td>\n",
       "      <td>0.000000</td>\n",
       "      <td>0.000000</td>\n",
       "      <td>0.000000</td>\n",
       "      <td>0.000000</td>\n",
       "      <td>0.000000</td>\n",
       "    </tr>\n",
       "    <tr>\n",
       "      <th>25%</th>\n",
       "      <td>0.000000</td>\n",
       "      <td>0.263158</td>\n",
       "      <td>0.000000</td>\n",
       "      <td>0.000000</td>\n",
       "      <td>0.000000</td>\n",
       "      <td>0.000000</td>\n",
       "      <td>0.190965</td>\n",
       "      <td>0.158392</td>\n",
       "      <td>0.285714</td>\n",
       "      <td>0.182744</td>\n",
       "      <td>0.087571</td>\n",
       "    </tr>\n",
       "    <tr>\n",
       "      <th>50%</th>\n",
       "      <td>0.000000</td>\n",
       "      <td>0.447368</td>\n",
       "      <td>0.000000</td>\n",
       "      <td>0.000000</td>\n",
       "      <td>0.000000</td>\n",
       "      <td>0.000000</td>\n",
       "      <td>0.248460</td>\n",
       "      <td>0.210402</td>\n",
       "      <td>0.359788</td>\n",
       "      <td>0.238488</td>\n",
       "      <td>0.107345</td>\n",
       "    </tr>\n",
       "    <tr>\n",
       "      <th>75%</th>\n",
       "      <td>1.000000</td>\n",
       "      <td>0.631579</td>\n",
       "      <td>0.285714</td>\n",
       "      <td>0.000000</td>\n",
       "      <td>1.000000</td>\n",
       "      <td>0.000000</td>\n",
       "      <td>0.308522</td>\n",
       "      <td>0.286052</td>\n",
       "      <td>0.444444</td>\n",
       "      <td>0.302957</td>\n",
       "      <td>0.132768</td>\n",
       "    </tr>\n",
       "    <tr>\n",
       "      <th>max</th>\n",
       "      <td>1.000000</td>\n",
       "      <td>1.000000</td>\n",
       "      <td>1.000000</td>\n",
       "      <td>1.000000</td>\n",
       "      <td>1.000000</td>\n",
       "      <td>1.000000</td>\n",
       "      <td>1.000000</td>\n",
       "      <td>1.000000</td>\n",
       "      <td>1.000000</td>\n",
       "      <td>1.000000</td>\n",
       "      <td>1.000000</td>\n",
       "    </tr>\n",
       "  </tbody>\n",
       "</table>\n",
       "</div>"
      ],
      "text/plain": [
       "              male          age   cigsPerDay       BPMeds  prevalentHyp  \\\n",
       "count  3656.000000  3656.000000  3656.000000  3656.000000   3656.000000   \n",
       "mean      0.443654     0.462038     0.128888     0.030361      0.311543   \n",
       "std       0.496883     0.225293     0.170270     0.171602      0.463187   \n",
       "min       0.000000     0.000000     0.000000     0.000000      0.000000   \n",
       "25%       0.000000     0.263158     0.000000     0.000000      0.000000   \n",
       "50%       0.000000     0.447368     0.000000     0.000000      0.000000   \n",
       "75%       1.000000     0.631579     0.285714     0.000000      1.000000   \n",
       "max       1.000000     1.000000     1.000000     1.000000      1.000000   \n",
       "\n",
       "          diabetes      totChol        sysBP        diaBP          BMI  \\\n",
       "count  3656.000000  3656.000000  3656.000000  3656.000000  3656.000000   \n",
       "mean      0.027079     0.254360     0.231054     0.369440     0.248284   \n",
       "std       0.162335     0.090547     0.104456     0.126718     0.098544   \n",
       "min       0.000000     0.000000     0.000000     0.000000     0.000000   \n",
       "25%       0.000000     0.190965     0.158392     0.285714     0.182744   \n",
       "50%       0.000000     0.248460     0.210402     0.359788     0.238488   \n",
       "75%       0.000000     0.308522     0.286052     0.444444     0.302957   \n",
       "max       1.000000     1.000000     1.000000     1.000000     1.000000   \n",
       "\n",
       "           glucose  \n",
       "count  3656.000000  \n",
       "mean      0.118238  \n",
       "std       0.067543  \n",
       "min       0.000000  \n",
       "25%       0.087571  \n",
       "50%       0.107345  \n",
       "75%       0.132768  \n",
       "max       1.000000  "
      ]
     },
     "execution_count": 7,
     "metadata": {},
     "output_type": "execute_result"
    }
   ],
   "source": [
    "X = df.iloc[:,:-1]   # data\n",
    "y = df.iloc[:,-1]    # labels\n",
    "\n",
    "# normalize the dataset\n",
    "print(df.shape)\n",
    "print(X.shape, y.shape)\n",
    "\n",
    "# Rescale the values in the attributes between 0 and 1\n",
    "from sklearn.preprocessing import MinMaxScaler\n",
    "scaler = MinMaxScaler(feature_range=(0,1)) \n",
    "X_scaled = pd.DataFrame(scaler.fit_transform(X), columns= X.columns)\n",
    "\n",
    "# view the data description\n",
    "X_scaled.describe()"
   ]
  },
  {
   "cell_type": "code",
   "execution_count": 8,
   "metadata": {},
   "outputs": [
    {
     "name": "stdout",
     "output_type": "stream",
     "text": [
      "[1.         0.52631579 0.21428571 0.         0.         0.\n",
      " 0.15811088 0.16312057 0.33862434 0.21643238 0.13559322]\n",
      "[0.         0.63157895 0.42857143 0.         0.         0.\n",
      " 0.35934292 0.18676123 0.23280423 0.07464857 0.15819209]\n",
      "labels: [[0]\n",
      " [0]\n",
      " [0]\n",
      " [1]\n",
      " [0]] [[0]\n",
      " [0]\n",
      " [1]\n",
      " [0]\n",
      " [0]]\n"
     ]
    },
    {
     "data": {
      "text/plain": [
       "(556, 1)"
      ]
     },
     "execution_count": 8,
     "metadata": {},
     "output_type": "execute_result"
    }
   ],
   "source": [
    "# Turn the dataframe into a numpy array, shuffle the data, do the split for testing data and train data\n",
    "\n",
    "dataset = np.array(X_scaled)\n",
    "y = np.array(y)\n",
    "\n",
    "# shuffle the data, separate data to test and train sets\n",
    "np.random.seed(0)\n",
    "shuffled_indices = np.random.permutation(len(y))\n",
    "shuffled_dataset = dataset[shuffled_indices]\n",
    "\n",
    "# assign the test and train data manually\n",
    "train_set = shuffled_dataset[:3100]\n",
    "test_set = shuffled_dataset[3100:]\n",
    "print(train_set[0])\n",
    "print(test_set[0])\n",
    "\n",
    "# assign the test and train labels\n",
    "y = y[:, np.newaxis]\n",
    "shuffled_labels = y[shuffled_indices]\n",
    "train_label = shuffled_labels[:3100]\n",
    "test_label = shuffled_labels[3100:]\n",
    "print('labels:', train_label[:5], test_label[:5]) # visualize the labels\n",
    "test_label.shape\n"
   ]
  },
  {
   "cell_type": "code",
   "execution_count": 9,
   "metadata": {},
   "outputs": [
    {
     "name": "stdout",
     "output_type": "stream",
     "text": [
      "0    3099\n",
      "1     557\n",
      "Name: TenYearCHD, dtype: int64\n",
      "0.15235229759299782 0.8476477024070022\n"
     ]
    }
   ],
   "source": [
    "# Before moving on with a classic ML algorithm to do logistic regression, revisit the label score rates\n",
    "target_count = df.TenYearCHD.value_counts()\n",
    "print(target_count)\n",
    "\n",
    "# if accuracy was going to be evaluated based on sensitivity and specificity these are the tp and tn amounts below:\n",
    "tp_rate = 557/len(df)\n",
    "tn_rate = 3099/len(df)\n",
    "print(tp_rate , tn_rate)"
   ]
  },
  {
   "cell_type": "code",
   "execution_count": 10,
   "metadata": {},
   "outputs": [
    {
     "data": {
      "text/plain": [
       "[<matplotlib.lines.Line2D at 0x7fbdbaf12250>]"
      ]
     },
     "execution_count": 10,
     "metadata": {},
     "output_type": "execute_result"
    },
    {
     "data": {
      "image/png": "[encoded data removed]",
      "text/plain": [
       "<Figure size 432x288 with 1 Axes>"
      ]
     },
     "metadata": {
      "needs_background": "light"
     },
     "output_type": "display_data"
    }
   ],
   "source": [
    "# Write and test the sigmoid function \n",
    "def sigmoid(x):\n",
    "    return 1/(1+np.exp(-x))\n",
    "\n",
    "def sigmoid_p(x):\n",
    "    return sigmoid(x) * (1-sigmoid(x))\n",
    "\n",
    "# Visualize the sigmoid function and its derivative\n",
    "X = np.linspace(-5, 5, 100)\n",
    "plt.plot(X, sigmoid(X), c=\"b\") # sigmoid in blue\n",
    "plt.plot(X, sigmoid_p(X), c=\"r\") # sigmoid_p in red"
   ]
  },
  {
   "cell_type": "code",
   "execution_count": 11,
   "metadata": {},
   "outputs": [
    {
     "name": "stdout",
     "output_type": "stream",
     "text": [
      "best hyper-parameters: 2000 0.1 0.98\n",
      "[0 0 0 0 0 0 0 0 0 0 0 0 0 0 0 0 0 0 0 0 0 0 0 0 0] [0 0 1 0 0 0 0 0 0 0 0 0 0 0 0 0 0 0 0 0 0 0 0 1 0]\n",
      "accuracy 0.8776978417266187\n",
      "487 0 68 1\n",
      "0.8521739130434782\n"
     ]
    }
   ],
   "source": [
    "# Write a one layer NN and train the network, test it and analyze the result with the confusion matrix\n",
    "# Analyze the accuracy with a grid search on all hyperparameters\n",
    "\n",
    "import numpy as np\n",
    "class Neural_Network():\n",
    "    def __init__(self):\n",
    "        # set the network parameters\n",
    "        self.inputSize = 11 # there are 11 attributes for each input. \n",
    "        self.outputSize = 1 # the output will be a single value\n",
    "\n",
    "        # set the weights\n",
    "        self.W = 0.01 * np.random.randn(self.inputSize, self.outputSize)\n",
    "        self.b = np.zeros([1, self.outputSize])\n",
    "        self.lr = 0.01\n",
    "        \n",
    "    def forward(self, input_data):\n",
    "        # forward propagation\n",
    "        self.z = np.dot(input_data, self.W) + self.b # dot product of X (input) and weights\n",
    "        self.o = self.sigmoid(self.z) # fit the logit into the activation function\n",
    "        return self.o # return scores\n",
    "\n",
    "    def sigmoid(self, s):\n",
    "        # activation function\n",
    "        return 1/(1+np.exp(-s))\n",
    "\n",
    "    def dsigmoid(self, s):\n",
    "        # derivative of sigmoid\n",
    "        return s * (1 - s)\n",
    "\n",
    "    def backward(self, input_data, label):\n",
    "        # backward propagation \n",
    "        #self.do = self.o - label # (since the loss function used is: log loss)\n",
    "        self.dz = self.o - label\n",
    "        self.db = self.dz \n",
    "        self.dW = np.dot(input_data.T , self.dz)\n",
    "\n",
    "        # vanilla update of the weights and biases\n",
    "        self.b -=  self.lr * self.db\n",
    "        self.W -=  self.lr * self.dW \n",
    "    \n",
    "    # all parameters here are LIST of numbers to do grid search to optimize the results  \n",
    "    def train(self, train_set, test_set, test_label, train_label, iteration_i, lr, decay): \n",
    "        NN.lr = lr\n",
    "        # train the network \n",
    "        for i in range(iteration_i):\n",
    "            ri = np.random.randint(len(train_set)) # random index\n",
    "            rd = train_set[ri] # instance at the random index picked\n",
    "            rd = rd[np.newaxis,:] # reshape the instance to 2D. (1,12)\n",
    "            y = train_label[ri] # label of the random instance picked\n",
    "            self.forward(rd)\n",
    "            self.backward(rd, y)\n",
    "            if (i % 100) == 299:\n",
    "                NN.lr *= decay \n",
    "        # done with the training, test the test set data on the trained network\n",
    "        pred_list = [] # store the predictions in this list\n",
    "        for j in range(len(test_set)): # for each item in the test set, make predictions and check the accuracy\n",
    "            test_data = test_set[j] \n",
    "            fwd_prop = NN.forward(test_data)\n",
    "            predict_value = float(fwd_prop)\n",
    "            if predict_value < 0.5:\n",
    "                prediction = 0\n",
    "            else:\n",
    "                prediction = 1\n",
    "            pred_list.append(prediction)\n",
    "        # pass the predictins to confusion matrix\n",
    "        tn, fp, fn, tp = confusion_matrix(test_label, pred_list).ravel() # actual labels compared with predictions \n",
    "        specificity_and_sensitivity_average = (0.85* tn/(tn+fp) + 0.15* tp/(tp+fn)) # weighted average \n",
    "        return specificity_and_sensitivity_average, pred_list\n",
    "\n",
    "    \n",
    "#     def saveWeights(self): # this saves a text file in the same working folder when the best training is found\n",
    "#         np.savetxt(\"w.txt\", self.W)\n",
    "#         np.savetxt(\"b.txt\", self.b)\n",
    "\n",
    "\n",
    "# Grid search for the number of iterations, learning rate and learning rate decay for the best accuracy\n",
    "test_label = test_label.reshape(len(test_label))  # reshape the test label\n",
    "iterations = [300, 500, 1000, 2000, 4000, 5000]\n",
    "lr = [1e-5, 5*1e-4, 1e-4, 5*1e-4, 5*1e-3, 1e-3, 5*1e-3, 1e-2, 5*1e-2, 1e-1]\n",
    "lr_decay =[0.99, 0.98, 0.97, 0.96, 0.95, 0.90]\n",
    "best_specificity_and_sensitivity = 0\n",
    "iteration_accuracy_at = 0\n",
    "pred_list = []\n",
    "for i in iterations:\n",
    "    for k in lr:\n",
    "        for n in lr_decay:\n",
    "            NN = Neural_Network() # initialize the object\n",
    "            #('training with:', i,'iterations', k, 'learning rate', n, 'learning rate decay')\n",
    "            specificity_and_sensitivity_average , pred_list = NN.train(train_set, test_set, test_label, train_label, i, k, n)\n",
    "            if specificity_and_sensitivity_average  > best_specificity_and_sensitivity:\n",
    "                best_specificity_and_sensitivity = specificity_and_sensitivity_average\n",
    "                mark_i = i\n",
    "                mark_k = k\n",
    "                mark_n = n\n",
    "                best_pred_list = pred_list\n",
    "\n",
    "print('best hyper-parameters:', mark_i, mark_k, mark_n) \n",
    "print(np.array(best_pred_list[:25]), test_label[:25])\n",
    "accuracy = np.mean(best_pred_list == test_label)\n",
    "print('accuracy', accuracy)\n",
    "tn, fp, fn, tp = confusion_matrix(test_label, best_pred_list).ravel()\n",
    "print(tn, fp, fn, tp)\n",
    "weighted_accuracy = (0.85* tn/(tn+fp) + 0.15* tp/(tp+fn))\n",
    "print(weighted_accuracy)"
   ]
  },
  {
   "cell_type": "code",
   "execution_count": 12,
   "metadata": {},
   "outputs": [
    {
     "name": "stdout",
     "output_type": "stream",
     "text": [
      "for i =: 1 tn, fp, fn, tp values are:  428 59 55 14\n",
      "for i =: 2 tn, fp, fn, tp values are:  466 21 67 2\n",
      "for i =: 3 tn, fp, fn, tp values are:  449 38 57 12\n",
      "for i =: 4 tn, fp, fn, tp values are:  475 12 65 4\n",
      "for i =: 5 tn, fp, fn, tp values are:  466 21 60 9\n",
      "for i =: 6 tn, fp, fn, tp values are:  474 13 64 5\n",
      "for i =: 7 tn, fp, fn, tp values are:  468 19 63 6\n",
      "for i =: 8 tn, fp, fn, tp values are:  476 11 67 2\n",
      "[79.5, 84.17, 82.91, 86.15, 85.43, 86.15, 85.25, 85.97]\n"
     ]
    },
    {
     "data": {
      "text/plain": [
       "[<matplotlib.lines.Line2D at 0x7fbdbb934a50>]"
      ]
     },
     "execution_count": 12,
     "metadata": {},
     "output_type": "execute_result"
    },
    {
     "data": {
      "image/png": "[encoded data removed]",
      "text/plain": [
       "<Figure size 432x288 with 1 Axes>"
      ]
     },
     "metadata": {
      "needs_background": "light"
     },
     "output_type": "display_data"
    }
   ],
   "source": [
    "# Write a KNN to analyze the data. Then, compare it with the one layer NN above. \n",
    "\n",
    "# view the data type and shape one more time using numpy arrays.\n",
    "# print(type(test_set), test_set.shape)\n",
    "# print(type(train_set), train_set.shape)\n",
    "# print(type(test_label), test_label.shape) \n",
    "# print(type(train_label), train_label.shape)\n",
    "\n",
    "def K_Nearest_Neighbor(test_set, test_label, train_set, train_label, n): \n",
    "    results = []\n",
    "    for i in range(len(test_set)):\n",
    "        indices_visited = [] # make a list of indices visited\n",
    "        votes = np.zeros(2)\n",
    "        for j in range(n):\n",
    "            min = np.inf\n",
    "            for k in range(len(train_set)):\n",
    "                difference = np.linalg.norm(train_set[k] - test_set[i])\n",
    "                if difference < min and k not in indices_visited:\n",
    "                    min = difference\n",
    "                    index_at_min_distance = k\n",
    "                    the_label_found_at_min_dist = int(train_label[k])\n",
    "            indices_visited.append(index_at_min_distance)\n",
    "            votes[the_label_found_at_min_dist] +=1\n",
    "        label_of_max_votes = np.argmax(votes)\n",
    "        results.append(label_of_max_votes)\n",
    "    # check the accuracy by comparing predictions with the actual test labels\n",
    "    tn, fp, fn, tp = confusion_matrix(test_label, results).ravel()\n",
    "    print('for i =:', n, 'tn, fp, fn, tp values are: ' , tn, fp, fn, tp  )\n",
    "    best_score = (0.85* tn/(tn+fp) + 0.15* tp/(tp+fn))\n",
    "    accuracy = np.sum(results == test_label) / len(test_label)\n",
    "    return best_score, np.around(100*accuracy, decimals = 2) \n",
    "    \n",
    "all_results = []   \n",
    "for i in range(1,9):\n",
    "    best_scores, accuracy = K_Nearest_Neighbor(test_set, test_label, train_set, train_label, i)\n",
    "    all_results.append(accuracy)\n",
    "print(all_results)\n",
    "plt.plot(np.arange(1,9), np.array(all_results))"
   ]
  },
  {
   "cell_type": "code",
   "execution_count": 13,
   "metadata": {},
   "outputs": [
    {
     "name": "stdout",
     "output_type": "stream",
     "text": [
      "for i =: 1 tn, fp, fn, tp values are:  428 59 55 14\n",
      "for i =: 2 tn, fp, fn, tp values are:  466 21 67 2\n",
      "for i =: 3 tn, fp, fn, tp values are:  449 38 57 12\n",
      "for i =: 4 tn, fp, fn, tp values are:  475 12 65 4\n",
      "for i =: 5 tn, fp, fn, tp values are:  466 21 60 9\n",
      "for i =: 6 tn, fp, fn, tp values are:  474 13 64 5\n",
      "for i =: 7 tn, fp, fn, tp values are:  468 19 63 6\n",
      "for i =: 8 tn, fp, fn, tp values are:  476 11 67 2\n",
      "[79.5, 84.17, 82.91, 86.15, 85.43, 86.15, 85.25, 85.97]\n"
     ]
    },
    {
     "data": {
      "text/plain": [
       "[<matplotlib.lines.Line2D at 0x7fbdbba5be10>]"
      ]
     },
     "execution_count": 13,
     "metadata": {},
     "output_type": "execute_result"
    },
    {
     "data": {
      "image/png": "[encoded data removed]",
      "text/plain": [
       "<Figure size 432x288 with 1 Axes>"
      ]
     },
     "metadata": {
      "needs_background": "light"
     },
     "output_type": "display_data"
    }
   ],
   "source": [
    "# See if more weights is given to find the TPs, would yield a better accuracy. \n",
    "# (Don't try this at work! You might be fired even if you are right. Remember, this dataset has 85% negatives)\n",
    "\n",
    "def Tweaked_K_Nearest_Neighbor(test_set, test_label, train_set, train_label, n): \n",
    "    results = []\n",
    "    for i in range(len(test_set)):\n",
    "        indices_visited = [] # make a list of indices visited\n",
    "        votes = np.zeros(2)\n",
    "        for j in range(n):\n",
    "            min = np.inf\n",
    "            for k in range(len(train_set)):\n",
    "                difference = np.linalg.norm(train_set[k] - test_set[i])\n",
    "                if difference < min and k not in indices_visited:\n",
    "                    min = difference\n",
    "                    index_at_min_distance = k\n",
    "                    the_label_found_at_min_dist = int(train_label[k])\n",
    "            indices_visited.append(index_at_min_distance)\n",
    "            votes[the_label_found_at_min_dist] +=1\n",
    "        if votes[1] >= n//2:\n",
    "            weighted_votes = 1\n",
    "        else:\n",
    "            weighted_votes = 0\n",
    "        results.append(weighted_votes)\n",
    "    tn, fp, fn, tp = confusion_matrix(test_label, results).ravel()\n",
    "    print('for i =:', n, 'tn, fp, fn, tp values are: ' , tn, fp, fn, tp  )\n",
    "    best_score = (0.85* tn/(tn+fp) + 0.15* tp/(tp+fn))\n",
    "    accuracy = np.sum(results == test_label) / len(test_label)\n",
    "    return best_score, np.around(100*accuracy, decimals = 2) \n",
    "\n",
    "# view some of the results to judge the accuracy of this model:\n",
    "all_results = []   \n",
    "for i in range(1,9):\n",
    "    best_scores, accuracy = K_Nearest_Neighbor(test_set, test_label, train_set, train_label, i)\n",
    "    all_results.append(accuracy)\n",
    "print(all_results)\n",
    "plt.plot(np.arange(1,9), np.array(all_results))\n"
   ]
  },
  {
   "cell_type": "code",
   "execution_count": 14,
   "metadata": {},
   "outputs": [
    {
     "name": "stderr",
     "output_type": "stream",
     "text": [
      "/Users/volkansonmez/miniconda/lib/python3.7/site-packages/sklearn/utils/validation.py:72: DataConversionWarning: A column-vector y was passed when a 1d array was expected. Please change the shape of y to (n_samples, ), for example using ravel().\n",
      "  return f(**kwargs)\n"
     ]
    },
    {
     "name": "stdout",
     "output_type": "stream",
     "text": [
      "0.8758992805755396\n",
      "[[484   3]\n",
      " [ 66   3]]\n",
      "0.8512855995000446\n"
     ]
    },
    {
     "data": {
      "image/png": "[encoded data removed]",
      "text/plain": [
       "<Figure size 432x288 with 2 Axes>"
      ]
     },
     "metadata": {
      "needs_background": "light"
     },
     "output_type": "display_data"
    }
   ],
   "source": [
    "# Check the sklearn linear model's logistic regression classifier and compare it with the above algorithms\n",
    "\n",
    "from sklearn.linear_model import LogisticRegression\n",
    "from sklearn.metrics import accuracy_score\n",
    "clf = LogisticRegression().fit(train_set, train_label)\n",
    "pred = clf.predict(test_set)\n",
    "# check accuracy: Accuracy = (True Pos + True Negative)\n",
    "accuracy = accuracy_score(test_label, pred)\n",
    "print(accuracy)\n",
    "cnf_matrix_log = confusion_matrix(test_label, pred)\n",
    "print(cnf_matrix_log) \n",
    "sns.heatmap(pd.DataFrame(cnf_matrix_log), annot=True,cmap=\"Reds\" , fmt='g')\n",
    "\n",
    "# conclusion: it is not a good system, sensitivity rate is very low, false negatives are high\n",
    "tn, fp, fn, tp = confusion_matrix(test_label, pred).ravel()\n",
    "weighted_accuracy = (0.85* tn/(tn+fp) + 0.15* tp/(tp+fn))\n",
    "print(weighted_accuracy)"
   ]
  },
  {
   "cell_type": "code",
   "execution_count": 58,
   "metadata": {},
   "outputs": [
    {
     "name": "stdout",
     "output_type": "stream",
     "text": [
      "[EPOCH]: 99, [LOSS]: 0.465822, [ACCURACY]: 0.843\n"
     ]
    },
    {
     "name": "stderr",
     "output_type": "stream",
     "text": [
      "/Users/volkansonmez/miniconda/lib/python3.7/site-packages/torch/nn/modules/loss.py:529: UserWarning: Using a target size (torch.Size([3100])) that is different to the input size (torch.Size([3100, 1])) is deprecated. Please ensure they have the same size.\n",
      "  return F.binary_cross_entropy(input, target, weight=self.weight, reduction=self.reduction)\n"
     ]
    }
   ],
   "source": [
    "# BONUS: Do a simple 3 layer pytorch sequential model, train it, and test the data\n",
    "\n",
    "import numpy as np\n",
    "import random\n",
    "import torch\n",
    "from torch import nn, optim\n",
    "import torch.functional as F\n",
    "from IPython import display\n",
    "\n",
    "y = y.reshape(-1)\n",
    "# prepare the data for torch tensors\n",
    "x = torch.from_numpy(train_set).float()\n",
    "y = torch.from_numpy(train_label).float()\n",
    "\n",
    "dtype = float\n",
    "\n",
    "D_in, H1, H2, D_out = 11, 50, 10, 1\n",
    "learning_rate = 1e-3\n",
    "\n",
    "\n",
    "model = nn.Sequential(\n",
    "    nn.Linear(D_in, H1),\n",
    "    nn.ReLU(),\n",
    "    nn.Linear(H1, H2),\n",
    "    nn.ReLU(),\n",
    "    nn.Linear(H2, D_out),\n",
    "    nn.Sigmoid(),\n",
    ")\n",
    "\n",
    "\n",
    "criterion = torch.nn.BCELoss()\n",
    "# Use the optim package to apply stochastic gradient descent for parameter updates\n",
    "optimizer = torch.optim.Adam(model.parameters(), lr=learning_rate) \n",
    "\n",
    "# Training\n",
    "for t in range(100):\n",
    "    \n",
    "    # Feed forward to get the logits\n",
    "    y_pred = model(x)\n",
    "    \n",
    "    # Compute the loss and accuracy\n",
    "    loss = criterion(y_pred, y)\n",
    "    score, predicted = torch.max(y_pred, 1)\n",
    "    y = y.reshape(-1)\n",
    "    acc = ((y == predicted).sum()).float() / len(x)\n",
    "    print(\"[EPOCH]: %i, [LOSS]: %.6f, [ACCURACY]: %.3f\" % (t, loss.item(), acc))\n",
    "    display.clear_output(wait=True)\n",
    "    \n",
    "    # zero the gradients before running\n",
    "    # the backward pass.\n",
    "    optimizer.zero_grad()\n",
    "    \n",
    "    # Backward pass to compute the gradient\n",
    "    # of loss w.r.t our learnable params. \n",
    "    loss.backward()\n",
    "    \n",
    "    # Update params\n",
    "    optimizer.step()\n"
   ]
  },
  {
   "cell_type": "markdown",
   "metadata": {},
   "source": [
    "## Conclusion\n",
    "\n",
    "[[ go back to the top ]](#Table-of-contents)\n",
    "    \n",
    "\n",
    "KNN, Sklearn's Logistic Regression, a One layer NN, and Three-layer NN models fail to get a good accuracy (more than 85%) since the dataset is too noisy. If all models get trained with the optimum hyperparameters, the accuracy is reaching 87%. However, there are too many false positives and false negatives in the confusion matrix. High TP and TN values prove that the dataset is too small and noisy. The model is likely to reach a better accuracy if there is more data."
   ]
  }
 ],
 "metadata": {
  "kernelspec": {
   "display_name": "Python 3",
   "language": "python",
   "name": "python3"
  },
  "language_info": {
   "codemirror_mode": {
    "name": "ipython",
    "version": 3
   },
   "file_extension": ".py",
   "mimetype": "text/x-python",
   "name": "python",
   "nbconvert_exporter": "python",
   "pygments_lexer": "ipython3",
   "version": "3.7.7"
  }
 },
 "nbformat": 4,
 "nbformat_minor": 4
}
