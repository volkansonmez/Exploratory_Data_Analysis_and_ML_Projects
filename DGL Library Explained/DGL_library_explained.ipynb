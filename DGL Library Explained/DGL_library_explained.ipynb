{
 "cells": [
  {
   "cell_type": "markdown",
   "metadata": {},
   "source": [
    "### Notebook by [Volkan Sonmez](http://www.pythonicfool.com/)  \n",
    "### Node, Edge, and Graph Classifications made with Deep Graph Library\n",
    "##### [Pythonicfool GitHub Repository](https://github.com/volkansonmez/Exploratory_Data_Analysis_and_ML_Projects)"
   ]
  },
  {
   "cell_type": "markdown",
   "metadata": {},
   "source": [
    "## Table of contents\n",
    "\n",
    "1. [Introduction](#Introduction)\n",
    "\n",
    "2. [EDA and Building ML Model](#EDA_and_Building_ML_Model)\n",
    "\n",
    "3. [Node_Classification](#Node_Classification)\n",
    "\n",
    "4. [Edge_Classification](#Edge_Classification)\n",
    "\n",
    "5. [Graph_Classification](#Graph_Classification)\n",
    "\n",
    "6. [Conclusion](#Conclusion)"
   ]
  },
  {
   "cell_type": "markdown",
   "metadata": {},
   "source": [
    "## Introduction\n",
    "\n",
    "[[ go back to the top ]](#Table-of-contents)\n",
    "\n",
    "More recently, there has been a steady flow of new deep learning research focusing on graph-structured data. DGL is a tool (library) to do this efficiently. It has tutorials and packages to perform several classifications. This notebook teaches and explores DGL's abilities in node, edge, and graph classifications.\n",
    "\n",
    "> Learn more about DGL: [dgl.ai](https://docs.dgl.ai/tutorials/blitz/index.html)  "
   ]
  },
  {
   "cell_type": "markdown",
   "metadata": {},
   "source": [
    "## EDA_and_Building_ML_Model\n",
    "\n",
    "[[ go back to the top ]](#Table-of-contents)\n",
    "\n",
    "This notebook uses several Python packages that come standard with the Anaconda Python distribution. \n",
    "The primary libraries you need to run this notebook are:\n",
    "\n",
    "* **NumPy**: Provides a fast numerical array structure and helper functions.\n",
    "* **pandas**: Provides a DataFrame structure to store data in memory and work with it easily and efficiently.\n",
    "* **scikit-learn**: The essential Machine Learning package in Python.\n",
    "* **matplotlib**: Basic plotting library in Python; most other Python plotting libraries are built on top of it.\n",
    "* **Seaborn**: Advanced statistical plotting library.\n",
    "\n",
    "To make sure you have all of the packages you need, install them with `conda`:\n",
    "\n",
    "    conda install numpy pandas matplotlib dgl torch networkx cython\n",
    "\n",
    "\n",
    "GraphConv and SAGEConv modules are used to build simple neural networks to perform node and edge classifications on CoraDataSet. Additionally, the GraphConv module is used to perform graph classification on MiniGCDataset. For graph classification, the \"in\" and \"out\" degrees of edges are multiplied to produce edge connection weights. \n",
    "\n",
    "The graphs and subgraph connections are visualized with the networkx library. \n"
   ]
  },
  {
   "cell_type": "code",
   "execution_count": 1,
   "metadata": {},
   "outputs": [
    {
     "name": "stderr",
     "output_type": "stream",
     "text": [
      "Using backend: pytorch\n"
     ]
    },
    {
     "name": "stdout",
     "output_type": "stream",
     "text": [
      "  NumNodes: 2708\n",
      "  NumEdges: 10556\n",
      "  NumFeats: 1433\n",
      "  NumClasses: 7\n",
      "  NumTrainingSamples: 140\n",
      "  NumValidationSamples: 500\n",
      "  NumTestSamples: 1000\n",
      "Done loading data from cached files.\n",
      "Number of categories: 7\n"
     ]
    }
   ],
   "source": [
    "# Import the dgl, torch, networkx, and numpy libraries \n",
    "\n",
    "import dgl\n",
    "import torch\n",
    "import torch.nn as nn\n",
    "import torch.nn.functional as F\n",
    "import dgl.data\n",
    "import numpy as np\n",
    "import matplotlib.pyplot as plt\n",
    "import itertools\n",
    "import networkx as nx\n",
    "\n",
    "# download the cora graph dataset and store it to a variable\n",
    "dataset = dgl.data.CoraGraphDataset()\n",
    "print('Number of categories:', dataset.num_classes)\n",
    "g = dataset[0]\n",
    "# print(g)"
   ]
  },
  {
   "cell_type": "code",
   "execution_count": 2,
   "metadata": {},
   "outputs": [
    {
     "name": "stdout",
     "output_type": "stream",
     "text": [
      "2708 tensor([   0,    1,    2,  ..., 2705, 2706, 2707])\n",
      "10556 10556\n",
      "tensor([0, 0, 0, 1, 1]) tensor([ 633, 1862, 2582,    2,  652]) [from] - [to] edge connections arrays\n",
      "tensor([3, 3, 5, 1, 5]) in degrees\n",
      "tensor([3, 3, 5, 1, 5]) out degrees\n"
     ]
    }
   ],
   "source": [
    "# View the data\n",
    "\n",
    "print(len(g.nodes()), g.nodes()) # 2708 nodes, \n",
    "print(len(g.edges()[0]), len(g.edges()[1])) # 10556 edges, undirected graph, stored in two arrays as: [from] - [to]\n",
    "print(g.edges()[0][:5], g.edges()[1][:5], '[from] - [to] edge connections arrays') # view some of the connections\n",
    "\n",
    "# check in and out degrees to see if this is directed or undirected\n",
    "print(g.in_degrees()[:5], 'in degrees') \n",
    "print(g.out_degrees()[:5], 'out degrees') # it is an undirected graph, all nodes in and out degrees are the same."
   ]
  },
  {
   "cell_type": "code",
   "execution_count": 3,
   "metadata": {},
   "outputs": [
    {
     "name": "stdout",
     "output_type": "stream",
     "text": [
      "Graph(num_nodes=2708, num_edges=10556,\n",
      "      ndata_schemes={'feat': Scheme(shape=(1433,), dtype=torch.float32), 'label': Scheme(shape=(), dtype=torch.int64), 'val_mask': Scheme(shape=(), dtype=torch.bool), 'test_mask': Scheme(shape=(), dtype=torch.bool), 'train_mask': Scheme(shape=(), dtype=torch.bool)}\n",
      "      edata_schemes={})\n"
     ]
    }
   ],
   "source": [
    "# View how a single graph is interpreted with dgl\n",
    "\n",
    "print(g)"
   ]
  },
  {
   "cell_type": "markdown",
   "metadata": {},
   "source": [
    "It is a graph with 2708 nodes and 10556 edges, each node has an array with 1433 values. "
   ]
  },
  {
   "cell_type": "code",
   "execution_count": 4,
   "metadata": {},
   "outputs": [
    {
     "name": "stdout",
     "output_type": "stream",
     "text": [
      "{'feat': tensor([[0., 0., 0.,  ..., 0., 0., 0.],\n",
      "        [0., 0., 0.,  ..., 0., 0., 0.],\n",
      "        [0., 0., 0.,  ..., 0., 0., 0.],\n",
      "        ...,\n",
      "        [0., 0., 0.,  ..., 0., 0., 0.],\n",
      "        [0., 0., 0.,  ..., 0., 0., 0.],\n",
      "        [0., 0., 0.,  ..., 0., 0., 0.]]), 'label': tensor([3, 4, 4,  ..., 3, 3, 3]), 'val_mask': tensor([False, False, False,  ..., False, False, False]), 'test_mask': tensor([False, False, False,  ...,  True,  True,  True]), 'train_mask': tensor([ True,  True,  True,  ..., False, False, False])}\n",
      "{}\n"
     ]
    }
   ],
   "source": [
    "# View the properties of the nodes and edges of the graph\n",
    "\n",
    "print(g.ndata) # .ndata outputs node features, node labels, in and out degrees, train, test, validation masks. \n",
    "print(g.edata) # .edata outputs attributes. (there is no edge attributes in this dataset)"
   ]
  },
  {
   "cell_type": "code",
   "execution_count": 5,
   "metadata": {},
   "outputs": [
    {
     "name": "stdout",
     "output_type": "stream",
     "text": [
      "tensor([0.0000, 0.0000, 0.0000, 0.0000, 0.0000, 0.0000, 0.0000, 0.0000, 0.0000,\n",
      "        0.0000, 0.0000, 0.0000, 0.0000, 0.0000, 0.0000, 0.0000, 0.0000, 0.0000,\n",
      "        0.0000, 0.1111, 0.0000, 0.0000, 0.0000, 0.0000, 0.0000, 0.0000, 0.0000,\n",
      "        0.0000, 0.0000, 0.0000, 0.0000, 0.0000, 0.0000, 0.0000, 0.0000, 0.0000,\n",
      "        0.0000, 0.0000, 0.0000, 0.0000, 0.0000, 0.0000, 0.0000, 0.0000, 0.0000,\n",
      "        0.0000, 0.0000, 0.0000, 0.0000, 0.0000])\n",
      "9\n"
     ]
    }
   ],
   "source": [
    "# View the ndata property closely for one vertex. \n",
    "\n",
    "print(g.ndata['feat'][0][:50]) # view the first 50 values defining the properties of the node sitting at index 0\n",
    "first_node = g.ndata['feat'][0]\n",
    "print(len(([i for i in first_node if i > 0]))) # there are only 9 attributes that are not 0 for the first node. "
   ]
  },
  {
   "cell_type": "markdown",
   "metadata": {},
   "source": [
    "Each node has an array with 1433 values. The non-zero values are very sparse. As it is seen above, only 9 values out of 1433 are non-zero in the first node. "
   ]
  },
  {
   "cell_type": "code",
   "execution_count": 6,
   "metadata": {},
   "outputs": [
    {
     "data": {
      "image/png": "[encoded data removed]",
      "text/plain": [
       "<Figure size 432x288 with 1 Axes>"
      ]
     },
     "metadata": {},
     "output_type": "display_data"
    }
   ],
   "source": [
    "# View some of the random connections\n",
    "\n",
    "g_from, g_to = g.edges()[0][:100], g.edges()[1][:100] # View the first 100 connections (edges) between nodes\n",
    "g_view = dgl.graph((g_from, g_to))\n",
    "nx.draw(g_view.to_networkx()) "
   ]
  },
  {
   "cell_type": "markdown",
   "metadata": {},
   "source": [
    "Reminder: nx library is assuming these connections are directed. However, this is an undirected graph. It still serves the purpose for visualization."
   ]
  },
  {
   "cell_type": "markdown",
   "metadata": {},
   "source": [
    "## Node_Classification\n",
    "\n",
    "[[ go back to the top ]](#Table-of-contents)"
   ]
  },
  {
   "cell_type": "code",
   "execution_count": 7,
   "metadata": {},
   "outputs": [
    {
     "name": "stdout",
     "output_type": "stream",
     "text": [
      "tensor([2, 5, 2, 2, 5])\n",
      "tensor([3, 4, 4, 0, 3])\n",
      "<class 'torch.Tensor'> torch.Size([2708]) tensor(358)\n"
     ]
    }
   ],
   "source": [
    "# Check if the GraphConv module is working for this dataset to perform node classification\n",
    "\n",
    "from dgl.nn import GraphConv # import GraphConv module\n",
    "in_feat = g.ndata[\"feat\"].shape[1] # size of the attributes for each node (1433)\n",
    "out_feat = dataset.num_classes # there are total 7 classes \n",
    "\n",
    "\n",
    "class Test_GCN(nn.Module):\n",
    "    def __init__(self, in_feat, out_feat):\n",
    "        super().__init__()\n",
    "        self.conv1 = GraphConv(in_feat, out_feat)\n",
    "\n",
    "         \n",
    "    def forward(self, g, in_feat):\n",
    "        result = self.conv1(g, in_feat)\n",
    "        return result\n",
    "    \n",
    "\n",
    "test_model = Test_GCN(in_feat, out_feat)\n",
    "logits = test_model(g, g.ndata['feat']) # GraphConv takes the g.ndata['feat'] which is torch.Size([2708, 1433])\n",
    "pred = logits.argmax(1) # Compute prediction\n",
    "print(pred[:5])\n",
    "labels = g.ndata['label']\n",
    "print(labels[:5])\n",
    "print(type(pred), pred.shape, (pred == labels).sum()) "
   ]
  },
  {
   "cell_type": "markdown",
   "metadata": {},
   "source": [
    "It seems like everything is working and our model can be built and trained with this dataset."
   ]
  },
  {
   "cell_type": "code",
   "execution_count": 8,
   "metadata": {},
   "outputs": [],
   "source": [
    "# Building a 2 layer NN with GraphConv for Node Classification:\n",
    "\n",
    "# store node attributes to variables for easy reading / writing\n",
    "features = g.ndata['feat']\n",
    "labels = g.ndata['label']\n",
    "train_mask = g.ndata['train_mask']\n",
    "val_mask = g.ndata['val_mask']\n",
    "test_mask = g.ndata['test_mask']\n",
    " \n",
    "# define the shape of the in - hidden - out layers\n",
    "in_feat = g.ndata[\"feat\"].shape[1]\n",
    "h_feat = 16 # more layers will yield slightly better results (32,50,100..)\n",
    "out_feat = dataset.num_classes\n",
    "\n",
    "# create a model with 2 CNN layers with an activation function \n",
    "class GCN(nn.Module):\n",
    "    def __init__(self, in_feat, h_feat, out_feat):\n",
    "        super().__init__()\n",
    "        self.conv1 = GraphConv(in_feat, h_feat)\n",
    "        self.conv2 = GraphConv(h_feat, out_feat)\n",
    "        \n",
    "        \n",
    "    def forward(self, g, in_feat):\n",
    "        h = self.conv1(g, in_feat)\n",
    "        h = F.relu(h)\n",
    "        h = self.conv2(g, h)\n",
    "        return h\n",
    "\n",
    "# instantiate the model object and define the optimizer\n",
    "model = GCN(in_feat, h_feat, out_feat)\n",
    "optimizer = torch.optim.Adam(model.parameters(), lr=0.001) \n"
   ]
  },
  {
   "cell_type": "code",
   "execution_count": 9,
   "metadata": {},
   "outputs": [
    {
     "name": "stdout",
     "output_type": "stream",
     "text": [
      "At batch 99, loss: 1.753, val acc: 0.670, test acc: 0.687 \n",
      "At batch 199, loss: 1.402, val acc: 0.702, test acc: 0.692 \n",
      "At batch 299, loss: 1.009, val acc: 0.726, test acc: 0.712 \n",
      "At batch 399, loss: 0.684, val acc: 0.746, test acc: 0.737 \n",
      "At batch 499, loss: 0.459, val acc: 0.760, test acc: 0.753 \n",
      "At batch 599, loss: 0.314, val acc: 0.768, test acc: 0.756 \n"
     ]
    }
   ],
   "source": [
    "# train the model with the loss on multi-label cross entropy criterion\n",
    "\n",
    "for e in range(600):\n",
    "    # Forward prop\n",
    "    logits = model(g, features) # GraphConv takes the g.ndata['feat'] which is torch.Size([2708, 1433])\n",
    "\n",
    "    # Compute predictions\n",
    "    pred = logits.argmax(1)\n",
    "\n",
    "    # Compute loss on training data\n",
    "    loss = F.cross_entropy(logits[train_mask], labels[train_mask])\n",
    "\n",
    "    # Compute accuracy on training/validation/test\n",
    "    train_acc = (pred[train_mask] == labels[train_mask]).float().mean()\n",
    "    val_acc = (pred[val_mask] == labels[val_mask]).float().mean()\n",
    "    test_acc = (pred[test_mask] == labels[test_mask]).float().mean()\n",
    "\n",
    "    # Backward prop\n",
    "    optimizer.zero_grad()\n",
    "    loss.backward()\n",
    "    optimizer.step()\n",
    "\n",
    "    # Output losses on training, validation, and test sets\n",
    "    if e % 100 == 99:\n",
    "        print('At batch {}, loss: {:.3f}, val acc: {:.3f}, test acc: {:.3f} '.format(e, loss, val_acc, test_acc))\n"
   ]
  },
  {
   "cell_type": "markdown",
   "metadata": {},
   "source": [
    "### About 78% accuracy is achieved with a simple 2 layer model for node classification"
   ]
  },
  {
   "cell_type": "markdown",
   "metadata": {},
   "source": [
    "## Edge_Classification\n",
    "\n",
    "[[ go back to the top ]](#Table-of-contents)"
   ]
  },
  {
   "cell_type": "markdown",
   "metadata": {},
   "source": [
    "To perform Edge Classification, we need both positive and negative connections. We have the positive connections but what about the negative ones?\n",
    "\n",
    "Since this is an educational notebook it is important to mention the things to do and also not to do:\n",
    "\n",
    "Here is WHAT NOT TO DO if you have a large sparse positive connections array: Creating a huge negative connection array and build a negative connection matrix and then feed it into the model. DGL claims that they found an optimized way to build negative connection matrix but it is still going to take extra time and space. \n",
    "\n",
    "* Here is an example of what a pythonic fool would attempt to do: Building a negative connection matrix out of this data like it is shown in the below cell:"
   ]
  },
  {
   "cell_type": "markdown",
   "metadata": {},
   "source": [
    "    # Extracting \"negative connections\" out of the very sparse positive connections list.\n",
    "\n",
    "    u, v = g.edges()\n",
    "\n",
    "    # Shuffle the indices, split the data to train and test sets\n",
    "    shuffled_indices = np.random.permutation(g.number_of_edges())\n",
    "    test_size = int(len(shuffled_indices) * 0.1)\n",
    "    train_size = int(len(shuffled_indices) * 0.9)\n",
    "    test_pos_u, test_pos_v = u[shuffled_indices[:test_size]], v[shuffled_indices[:test_size]]\n",
    "    train_pos_u, train_pos_v = u[shuffled_indices[test_size:]], v[shuffled_indices[test_size:]]\n",
    "    print(test_pos_u[:10])\n",
    "\n",
    "\n",
    "    # reconstruct a graph, \n",
    "    # assign the positive and negative edges lists for training and test sets to new variables. \n",
    "    train_pos_g = dgl.graph((train_pos_u, train_pos_v), num_nodes=g.number_of_nodes())\n",
    "    test_pos_g = dgl.graph((test_pos_u, test_pos_v), num_nodes=g.number_of_nodes())\n",
    "\n",
    "\n",
    "    # create a matrix of the original positive edge connections\n",
    "    g_from, g_to = g.edges()[0], g.edges()[1]\n",
    "    mat = np.zeros([len(g_from), len(g_to)])\n",
    "    # row and col have the same length so one loop will suffice for creating a matrix.\n",
    "    for i in range(len(g_from)): \n",
    "        row_item_ind = g_from[i]\n",
    "        col_item_ind = g_to[i]\n",
    "        mat[row_item_ind][col_item_ind] = 1\n",
    "    print(mat[:10][:10])\n",
    "\n",
    "    mat_negative = np.array(mat, dtype = int) - np.ones(mat.shape) # just to view the negative connections with -1\n",
    "    print(mat_negative[:10][:10]) # View"
   ]
  },
  {
   "cell_type": "markdown",
   "metadata": {},
   "source": [
    "Since this is a sparse matrix, building a negative connection matrix will be too expensive. No need to extract a node_length.pow(2) long negative connections list to build a matrix as it is seen above\n",
    "\n",
    "An alternative but not 100% accurate way to build the negative connection 'from' - 'to' arrays for very sparsely connected graph would be just assuming that the negative connections matrix is all made of ones (scalar value). \n",
    "\n",
    "> Here is the CoraGraphDataset's properties: NumNodes: 2708, NumEdges: 10556. \n",
    "\n",
    "On average, each node is connected to 4 or 5 nodes and but not to the other +2700 (some number between 2700-2708 per node)\n",
    "\n",
    "This means that there is max 1/540 to min 1/675 chance that two randomly picked two nodes are connected."
   ]
  },
  {
   "cell_type": "code",
   "execution_count": null,
   "metadata": {},
   "outputs": [],
   "source": []
  },
  {
   "cell_type": "code",
   "execution_count": 10,
   "metadata": {},
   "outputs": [
    {
     "name": "stdout",
     "output_type": "stream",
     "text": [
      "tensor([ 516, 1359, 1270,  960, 2597, 1701, 1904, 1463, 1224, 2079])\n",
      "tensor([0, 0, 0, 1, 1, 1, 2, 2, 2, 2, 2, 3, 4, 4, 4, 4, 4, 5, 5, 5, 6, 6, 6, 6,\n",
      "        7, 8, 8, 8, 9, 9]) tensor([ 633, 1862, 2582,    2,  652,  654,    1, 1986,  332, 1666, 1454, 2544,\n",
      "        2176, 1016, 1761, 1256, 2175, 1629, 2546, 1659, 1416, 1602, 1042,  373,\n",
      "         208,  281, 1996,  269, 2614,  723]) 10556 10556\n",
      "tensor([0, 0, 0, 1, 1, 1, 2, 2, 2, 2, 2, 3, 4, 4, 4, 4, 4, 5, 5, 5, 6, 6, 6, 6,\n",
      "        7, 8, 8, 8, 9, 9]) tensor([1483, 1353, 2130, 1013,  118, 1740, 1810,  629, 1892, 1664, 1207, 1671,\n",
      "        2118, 2570, 1503,   84, 1062,  754,  306,  693,  109, 1638, 1337, 2057,\n",
      "         654,  879,   10, 1620, 1139, 2531]) 10556 10556\n"
     ]
    }
   ],
   "source": [
    "# building positive and negative connection arrays (from-to g.edges()) is randomly pick\n",
    "\n",
    "u, v = g.edges()\n",
    "\n",
    "# Shuffle the indices, split the data to train and test sets\n",
    "shuffled_indices = np.random.permutation(g.number_of_edges())\n",
    "test_size = int(len(shuffled_indices) * 0.1)\n",
    "train_size = int(len(shuffled_indices) * 0.9)\n",
    "test_pos_u, test_pos_v = u[shuffled_indices[:test_size]], v[shuffled_indices[:test_size]]\n",
    "train_pos_u, train_pos_v = u[shuffled_indices[test_size:]], v[shuffled_indices[test_size:]]\n",
    "print(test_pos_u[:10])\n",
    "\n",
    "\n",
    "# assign the positive and negative edges lists for training and test sets to new variables. \n",
    "train_pos_g = dgl.graph((train_pos_u, train_pos_v), num_nodes=g.number_of_nodes())\n",
    "test_pos_g = dgl.graph((test_pos_u, test_pos_v), num_nodes=g.number_of_nodes())\n",
    "\n",
    "u, v = g.edges()\n",
    "# create two shuffled indices. \n",
    "# with around 1/600 error rate, let's make a negative connection list of this dataset with random connection pairs\n",
    "shuffled_indices = np.random.permutation(g.number_of_edges())\n",
    "u_neg = u # same nodes\n",
    "v_neg = v[shuffled_indices] # random nodes that are very unlikely to be the right connections\n",
    "\n",
    "test_size = int(len(shuffled_indices) * 0.1)\n",
    "train_size = int(len(shuffled_indices) * 0.9)\n",
    "test_neg_u, test_neg_v = u_neg[shuffled_indices[:test_size]], v_neg[shuffled_indices[:test_size]]\n",
    "train_neg_u, train_neg_v = u_neg[shuffled_indices[test_size:]], v_neg[shuffled_indices[test_size:]]\n",
    "\n",
    "\n",
    "# assign the negative edges lists for training and test sets to new variables. \n",
    "train_neg_g = dgl.graph((train_neg_u, train_neg_v), num_nodes=g.number_of_nodes())\n",
    "test_neg_g = dgl.graph((test_neg_u, test_neg_v), num_nodes=g.number_of_nodes())\n",
    "\n",
    "\n",
    "# add self connections since there might be 0-in-degree nodes in the graph and backprop will also work on them\n",
    "train_pos_g = dgl.add_self_loop(train_pos_g)\n",
    "train_neg_g = dgl.add_self_loop(train_neg_g)\n",
    "\n",
    "print(u[:30], v[:30], len(u), len(v))\n",
    "print(u_neg[:30], v_neg[:30], len(u_neg), len(v_neg))"
   ]
  },
  {
   "cell_type": "markdown",
   "metadata": {},
   "source": [
    "#### Useful info on how to do addition on graphs based on the DGL tutorial:\n",
    "\n",
    "    Reminder for: Homogeneous Graph for addition:\n",
    "        g_test = dgl.graph(([0, 1, 2, 3], [1, 2, 3, 4]))\n",
    "        g_test.ndata['h'] = torch.ones(5, 2)\n",
    "        g_test.apply_edges(lambda edges: {'x' : edges.src['h'] + edges.dst['h']})\n",
    "        print(g_test.edata['x'])\n",
    "\n",
    "    Reminder for: Heterogeneous graph for addition:\n",
    "        g_test = dgl.heterograph({('user', 'plays', 'game'): ([0, 1, 1, 2], [0, 0, 2, 1])})\n",
    "        g_test.edges[('user', 'plays', 'game')].data['h'] = torch.ones(4, 5)\n",
    "        g_test.apply_edges(lambda edges: {'h': edges.data['h'] * 2})\n",
    "        print(g_test.edges[('user', 'plays', 'game')].data['h'])\n"
   ]
  },
  {
   "cell_type": "markdown",
   "metadata": {},
   "source": [
    "#### Before creating a model, try using DGL's apply_edges and fn.u_add_V properties:  "
   ]
  },
  {
   "cell_type": "markdown",
   "metadata": {},
   "source": [
    "#### Examples on DGL's built-in functions:\n",
    "    g_test = dgl.graph(([0, 1, 2, 3], [1, 2, 3, 4])) # create a graph with edges and 5 nodes 0,1..4\n",
    "    g_test.ndata['h'] = torch.ones(5, 2) # assign node attributes with 'ndata['h']' to those 5 nodes each having 2 attr.\n",
    "\n",
    "\n",
    "    # Test the addition: u['h'] is added to v['h'] and stored in edata['x']\n",
    "    import dgl.function as fn\n",
    "    g_test.apply_edges(fn.u_add_v('h', 'h', 'x'))\n",
    "    print(g_test.edata['x'], g_test.edata['x'].shape)\n",
    "\n",
    "\n",
    "    # Test the dot product: u['h'] multiplied with v['h'] and stored in edata['score']\n",
    "    import dgl.function as fn\n",
    "    g_test.ndata['h'] = torch.ones(5, 2)\n",
    "    # Compute a new edge feature named 'score' by a dot-product btwn the src. node feature 'h' and dest. node feature 'h'\n",
    "    g_test.apply_edges(fn.u_dot_v('h', 'h', 'score'))\n",
    "    # u_dot_v returns a 1-element vector for each edge so you need to squeeze it.\n",
    "    print(g_test.edata['score'][:, 0], g_test.edata['score'][:, 0].shape) \n"
   ]
  },
  {
   "cell_type": "code",
   "execution_count": 11,
   "metadata": {},
   "outputs": [
    {
     "name": "stdout",
     "output_type": "stream",
     "text": [
      "{'feat': tensor([[0., 0., 0.,  ..., 0., 0., 0.],\n",
      "        [0., 0., 0.,  ..., 0., 0., 0.],\n",
      "        [0., 0., 0.,  ..., 0., 0., 0.],\n",
      "        ...,\n",
      "        [0., 0., 0.,  ..., 0., 0., 0.],\n",
      "        [0., 0., 0.,  ..., 0., 0., 0.],\n",
      "        [0., 0., 0.,  ..., 0., 0., 0.]]), 'label': tensor([3, 4, 4,  ..., 3, 3, 3]), 'val_mask': tensor([False, False, False,  ..., False, False, False]), 'test_mask': tensor([False, False, False,  ...,  True,  True,  True]), 'train_mask': tensor([ True,  True,  True,  ..., False, False, False])}\n"
     ]
    }
   ],
   "source": [
    "# Build a two-layer GraphSAGE model\n",
    "\n",
    "from dgl.nn import SAGEConv\n",
    "import dgl.function as fn\n",
    "\n",
    "class GraphSAGE(nn.Module):\n",
    "    def __init__(self, in_feats, h_feats):\n",
    "        super(GraphSAGE, self).__init__()\n",
    "        self.conv1 = SAGEConv(in_feats, h_feats, 'mean')\n",
    "        self.conv2 = SAGEConv(h_feats, h_feats, 'mean')\n",
    "    \n",
    "    def forward(self, g, in_feat):\n",
    "        h = self.conv1(g, in_feat)\n",
    "        h = F.relu(h)\n",
    "        h = self.conv2(g, h)\n",
    "        return h\n",
    "\n",
    "# shuffle the graph nodes and then prepare it for training \n",
    "\n",
    "train_g = dgl.remove_edges(g, shuffled_indices[:test_size]) # remove 10 percent (test size) from the original data\n",
    "train_g = dgl.add_self_loop(train_g)\n",
    "print(train_g.ndata)\n",
    "# create the model\n",
    "model = GraphSAGE(train_g.ndata['feat'].shape[1], 16) # hidden size is picked 16 for convenience\n"
   ]
  },
  {
   "cell_type": "code",
   "execution_count": 12,
   "metadata": {},
   "outputs": [],
   "source": [
    "# Set up the optimizer \n",
    "optimizer = torch.optim.Adam(itertools.chain(model.parameters()), lr=0.001)"
   ]
  },
  {
   "cell_type": "code",
   "execution_count": 13,
   "metadata": {},
   "outputs": [
    {
     "name": "stdout",
     "output_type": "stream",
     "text": [
      "At batch: 0, training loss : 0.692885160446167, test accuracy: 0.574600183130675\n",
      "At batch: 49, training loss : 0.6419017314910889, test accuracy: 0.8574440126434995\n",
      "At batch: 98, training loss : 0.5201208591461182, test accuracy: 0.9321656236470814\n",
      "At batch: 147, training loss : 0.4715169668197632, test accuracy: 0.968966071381838\n",
      "At batch: 196, training loss : 0.44523924589157104, test accuracy: 0.9801350473841413\n",
      "At batch: 245, training loss : 0.4273204803466797, test accuracy: 0.9852132884948278\n",
      "At batch: 294, training loss : 0.41393885016441345, test accuracy: 0.9885068887273414\n",
      "At batch: 343, training loss : 0.4033653438091278, test accuracy: 0.9910012386246821\n",
      "At batch: 392, training loss : 0.3947652578353882, test accuracy: 0.9927426753315003\n",
      "At batch: 441, training loss : 0.3875463306903839, test accuracy: 0.994234064542242\n",
      "At batch: 490, training loss : 0.3812909722328186, test accuracy: 0.9955026369605606\n"
     ]
    }
   ],
   "source": [
    "# Train the model for the link (edge) prediction analysis\n",
    "from sklearn.metrics import roc_auc_score # for calculating accuracy\n",
    "\n",
    "for e in range(500):\n",
    "    # forward prop\n",
    "    h_pos = model(train_pos_g, train_g.ndata['feat']) \n",
    "    h_neg = model(train_neg_g, train_g.ndata['feat']) \n",
    "    # Compute a new edge feature named 'score' by a dot-product between the\n",
    "    # source node feature 'h' and destination node feature 'h'. Both for positive and negative connections\n",
    "    # obtain the positive scores\n",
    "    train_pos_g.ndata['h'] = h_pos\n",
    "    train_pos_g.apply_edges(fn.u_dot_v('h', 'h', 'score')) # store the dot product of nodes['h'] in edata['score']\n",
    "    train_pos_g.edata['score'] = train_pos_g.edata['score'][:, 0] # reshape the array to (1,:)\n",
    "    pos_score = train_pos_g.edata['score'] # store the scores\n",
    "    \n",
    "    # obtain negative scores\n",
    "    train_neg_g.ndata['h'] = h_neg\n",
    "    train_neg_g.apply_edges(fn.u_dot_v('h', 'h', 'score'))\n",
    "    train_neg_g.edata['score'] = train_neg_g.edata['score'][:, 0]\n",
    "    neg_score = train_neg_g.edata['score']\n",
    "    \n",
    "    # calculate the loss between positive scores and negative scores\n",
    "    scores = torch.cat([pos_score, neg_score]) # put both scores in one array in order\n",
    "    labels = torch.cat([torch.ones(pos_score.shape[0]), torch.zeros(neg_score.shape[0])]) # set up the labels \n",
    "    loss = F.binary_cross_entropy_with_logits(scores, labels) # calculate the binary cross entropy loss\n",
    "\n",
    "    \n",
    "    # back prop\n",
    "    optimizer.zero_grad()\n",
    "    loss.backward()\n",
    "    optimizer.step()\n",
    "    \n",
    "    if e % 49 == 0:\n",
    "        train_scores = np.array(torch.cat([pos_score, neg_score]).detach())\n",
    "        labels = np.array(torch.cat([torch.ones(pos_score.shape[0]), torch.zeros(neg_score.shape[0])]))\n",
    "        acc = roc_auc_score(labels, train_scores)\n",
    "        print('At batch: {}, training loss : {}, test accuracy: {}'.format(e, loss, acc))\n",
    "    "
   ]
  },
  {
   "cell_type": "markdown",
   "metadata": {},
   "source": [
    "### 99 percent test accuracy is achieved in link prediction (edge classification). "
   ]
  },
  {
   "cell_type": "markdown",
   "metadata": {},
   "source": [
    "## Graph_Classification\n",
    "\n",
    "[[ go back to the top ]](#Table-of-contents)"
   ]
  },
  {
   "cell_type": "markdown",
   "metadata": {},
   "source": [
    "#### Graph Classification with MiniGCDataset:\n",
    "\n",
    "Parameters needed to build a sample dataset from MiniGCDataset:\n",
    "* class dgl.data.MiniGCDataset takes: (num_graphs, min_num_v, max_num_v) to create dgl graphs. \n",
    "* num_graphs: number of graphs in this dataset\n",
    "* min_num_v: minimum number of nodes for graphs\n",
    "* max_num_v: maximum number of nodes for graphs"
   ]
  },
  {
   "cell_type": "code",
   "execution_count": 14,
   "metadata": {},
   "outputs": [],
   "source": [
    "from dgl.data import MiniGCDataset\n",
    "\n",
    "# from res.plot_lib import set_default\n",
    "# set_default(figsize=(3, 3), dpi=150)"
   ]
  },
  {
   "cell_type": "markdown",
   "metadata": {},
   "source": [
    "#### Generating artifical graph dataset with DGL:\n",
    "\n",
    "The datset contains 8 different types of graphs: \n",
    "('cycle','star','wheel','lollipop','hypercube','grid','clique','circular ladder')"
   ]
  },
  {
   "cell_type": "code",
   "execution_count": 15,
   "metadata": {},
   "outputs": [
    {
     "name": "stdout",
     "output_type": "stream",
     "text": [
      "600\n",
      "Graph(num_nodes=14, num_edges=42,\n",
      "      ndata_schemes={'attr': Scheme(shape=(1,), dtype=torch.float32)}\n",
      "      edata_schemes={'attr': Scheme(shape=(1,), dtype=torch.float32)})\n"
     ]
    }
   ],
   "source": [
    "trainset = MiniGCDataset(600, 10, 15) # create 500 of randomly picked graphs between 8 to 15 nodes for training\n",
    "testset = MiniGCDataset(150, 10, 15)\n",
    "\n",
    "# add features to the nodes (in * out degrees to each node) \n",
    "# add features to the edges (just add 1 to each edge to represent a simple connection)\n",
    "def add_features(dataset):\n",
    "    for (graph, _) in dataset:\n",
    "        in_degrees = graph.in_degrees() # in degrees to each node\n",
    "        out_degrees = graph.out_degrees() # in degrees to each node\n",
    "        in_and_out_degrees = in_degrees * out_degrees  # use the vector multiplication of in and out degrees \n",
    "        # graph.ndata['attr'] = in_degrees.view(-1, 1).float() # this is a default approach by most engineers\n",
    "        graph.ndata['attr'] = in_and_out_degrees.view(-1, 1).float() / 100 \n",
    "        graph.edata['attr'] = torch.ones(graph.number_of_edges(), 1)\n",
    "    return dataset\n",
    "\n",
    "\n",
    "trainset = add_features(trainset)\n",
    "testset = add_features(testset)\n",
    "\n",
    "print(len(trainset))\n",
    "print(trainset[0][0])"
   ]
  },
  {
   "cell_type": "code",
   "execution_count": 16,
   "metadata": {},
   "outputs": [],
   "source": [
    "# Add features to the nodes (in * out degrees to each node) \n",
    "# add features to the edges (just add 1 to each edge to represent a simple connection)\n",
    "\n",
    "# Ex: [Graph(num_nodes=13, num_edges=57,\n",
    "#       ndata_schemes={'attr': Scheme(shape=(3,), dtype=torch.float32), 'label': Scheme(shape=(), dtype=torch.int64)}\n",
    "#       edata_schemes={}), tensor([1])]"
   ]
  },
  {
   "cell_type": "code",
   "execution_count": 17,
   "metadata": {},
   "outputs": [
    {
     "name": "stdout",
     "output_type": "stream",
     "text": [
      "data: (Graph(num_nodes=14, num_edges=42,\n",
      "      ndata_schemes={'attr': Scheme(shape=(1,), dtype=torch.float32)}\n",
      "      edata_schemes={'attr': Scheme(shape=(1,), dtype=torch.float32)}), tensor(0)) label: (Graph(num_nodes=10, num_edges=30,\n",
      "      ndata_schemes={'attr': Scheme(shape=(1,), dtype=torch.float32)}\n",
      "      edata_schemes={'attr': Scheme(shape=(1,), dtype=torch.float32)}), tensor(0))\n",
      "tensor([[0.0900],\n",
      "        [0.0900],\n",
      "        [0.0900],\n",
      "        [0.0900],\n",
      "        [0.0900],\n",
      "        [0.0900],\n",
      "        [0.0900],\n",
      "        [0.0900],\n",
      "        [0.0900],\n",
      "        [0.0900],\n",
      "        [0.0900],\n",
      "        [0.0900],\n",
      "        [0.0900],\n",
      "        [0.0900]]) tensor([[1.2100],\n",
      "        [0.1600],\n",
      "        [0.1600],\n",
      "        [0.1600],\n",
      "        [0.1600],\n",
      "        [0.1600],\n",
      "        [0.1600],\n",
      "        [0.1600],\n",
      "        [0.1600],\n",
      "        [0.1600],\n",
      "        [0.1600]])\n"
     ]
    },
    {
     "data": {
      "image/png": "[encoded data removed]",
      "text/plain": [
       "<Figure size 432x288 with 1 Axes>"
      ]
     },
     "metadata": {},
     "output_type": "display_data"
    }
   ],
   "source": [
    "# Visualize a randomly picked graph\n",
    "\n",
    "print('data:', trainset[0], 'label:', trainset[1])\n",
    "# print(trainset[0][0].ndata['feat'], trainset[0][0].edata['feat']) \n",
    "plt.figure()\n",
    "nx.draw(trainset[0][0].to_networkx(), with_labels=True, node_color='cyan', edge_color='red')\n",
    "print(trainset[0][0].ndata['attr'] , trainset[200][0].ndata['attr'])"
   ]
  },
  {
   "cell_type": "code",
   "execution_count": 18,
   "metadata": {},
   "outputs": [
    {
     "name": "stdout",
     "output_type": "stream",
     "text": [
      "600 150\n"
     ]
    }
   ],
   "source": [
    "# Consolidate a few graphs into each batch. For simplicity, the solution below is made for 1 graph ==> 1 batch\n",
    "# It is common to pick a number between 5-20 graphs for a batch. \n",
    "\n",
    "from dgl.dataloading import GraphDataLoader\n",
    "from torch.utils.data.sampler import SubsetRandomSampler\n",
    "\n",
    "print(len(trainset), len(testset))\n",
    "num_examples = len(trainset)\n",
    "num_train = int(num_examples * 0.8)\n",
    "num_test = len(testset)\n",
    "\n",
    "train_sampler = SubsetRandomSampler(torch.arange(num_train))\n",
    "test_sampler = SubsetRandomSampler(torch.arange(num_test))\n",
    "\n",
    "train_dataloader = GraphDataLoader(\n",
    "    trainset, sampler=train_sampler, batch_size=10, drop_last=False)\n",
    "test_dataloader = GraphDataLoader(\n",
    "    testset, sampler=test_sampler, batch_size=10, drop_last=False)\n"
   ]
  },
  {
   "cell_type": "code",
   "execution_count": 19,
   "metadata": {},
   "outputs": [
    {
     "name": "stdout",
     "output_type": "stream",
     "text": [
      "[Graph(num_nodes=103, num_edges=505,\n",
      "      ndata_schemes={'attr': Scheme(shape=(1,), dtype=torch.float32)}\n",
      "      edata_schemes={'attr': Scheme(shape=(1,), dtype=torch.float32)}), tensor([3, 4, 6, 4, 3, 5, 1, 5, 5, 1])]\n",
      "[Graph(num_nodes=109, num_edges=591,\n",
      "      ndata_schemes={'attr': Scheme(shape=(1,), dtype=torch.float32)}\n",
      "      edata_schemes={'attr': Scheme(shape=(1,), dtype=torch.float32)}), tensor([2, 6, 5, 0, 1, 6, 2, 1, 3, 4])]\n"
     ]
    }
   ],
   "source": [
    "# Check if the trainloader iterable object is working\n",
    "\n",
    "it = iter(train_dataloader)\n",
    "batch = next(it)\n",
    "print(batch)\n",
    "print(it.next())"
   ]
  },
  {
   "cell_type": "code",
   "execution_count": 20,
   "metadata": {},
   "outputs": [
    {
     "name": "stdout",
     "output_type": "stream",
     "text": [
      "Number of nodes for each graph element in the batch: tensor([10,  8, 10,  8, 12,  9, 12, 12, 12, 10])\n",
      "Number of edges for each graph element in the batch: tensor([ 48,  32, 100,  32, 106,  33,  34,  46,  46,  28])\n",
      "Node feature dimensionality: 15\n",
      "Number of graph categories: 8\n"
     ]
    }
   ],
   "source": [
    "# Review the properties of each batch\n",
    "\n",
    "batched_graph, labels = batch\n",
    "print('Number of nodes for each graph element in the batch:', batched_graph.batch_num_nodes())\n",
    "print('Number of edges for each graph element in the batch:', batched_graph.batch_num_edges())\n",
    "print('Node feature dimensionality:', trainset.max_num_v)\n",
    "print('Number of graph categories:', trainset.num_classes)"
   ]
  },
  {
   "cell_type": "code",
   "execution_count": 21,
   "metadata": {},
   "outputs": [],
   "source": [
    "# Build a 2 layer NN with GraphConv\n",
    "\n",
    "from dgl.nn import GraphConv\n",
    "\n",
    "class GCN(nn.Module):\n",
    "    def __init__(self, in_feats, h_feats, num_classes):\n",
    "        super(GCN, self).__init__()\n",
    "        self.conv1 = GraphConv(in_feats, h_feats)\n",
    "        self.conv2 = GraphConv(h_feats, num_classes)\n",
    "    \n",
    "    def forward(self, g, in_feat):\n",
    "        h = self.conv1(g, in_feat)\n",
    "        h = F.relu(h)\n",
    "        h = self.conv2(g, h)\n",
    "        g.ndata['h'] = h\n",
    "        return dgl.mean_nodes(g, 'h')\n",
    "\n",
    "\n",
    "# Create the model with given dimensions\n",
    "model = GCN(1, 16, trainset.num_classes)\n",
    "optimizer = torch.optim.Adam(model.parameters(), lr=0.001)"
   ]
  },
  {
   "cell_type": "code",
   "execution_count": 22,
   "metadata": {},
   "outputs": [
    {
     "name": "stdout",
     "output_type": "stream",
     "text": [
      "at: 99 Test accuracy %: 63.33333333333333\n",
      "at: 199 Test accuracy %: 66.66666666666666\n",
      "at: 299 Test accuracy %: 67.33333333333333\n",
      "at: 399 Test accuracy %: 67.33333333333333\n",
      "at: 499 Test accuracy %: 71.33333333333334\n",
      "at: 599 Test accuracy %: 71.33333333333334\n",
      "at: 699 Test accuracy %: 71.33333333333334\n",
      "at: 799 Test accuracy %: 74.0\n",
      "at: 899 Test accuracy %: 75.33333333333333\n",
      "at: 999 Test accuracy %: 74.0\n"
     ]
    }
   ],
   "source": [
    "# Train the model: \n",
    "\n",
    "for batch in range(1000):\n",
    "    for batched_graph, labels in train_dataloader:\n",
    "        pred = model(batched_graph, batched_graph.ndata['attr'].float())\n",
    "        loss = F.cross_entropy(pred, labels)\n",
    "        optimizer.zero_grad()\n",
    "        loss.backward()\n",
    "        optimizer.step()\n",
    "    if batch % 100 == 99:\n",
    "        # testing\n",
    "        num_correct = 0\n",
    "        num_tests = 0\n",
    "        for batched_graph, labels in test_dataloader:\n",
    "            pred = model(batched_graph, batched_graph.ndata['attr'].float())\n",
    "            num_correct += (pred.argmax(1) == labels).sum().item()\n",
    "            num_tests += len(labels)\n",
    "        print('at:', batch, 'Test accuracy %:', num_correct / num_tests * 100)\n",
    "        "
   ]
  },
  {
   "cell_type": "markdown",
   "metadata": {},
   "source": [
    "## Conclusion\n",
    "\n",
    "[[ go back to the top ]](#Table-of-contents)\n",
    "\n",
    "Dgl library seems like a fast tool for graph analysis and categorization of nodes, edges, and patterns. However, it is hard to reach good accuracy sometimes due to the module selection in the architecture of the models. \n",
    "\n",
    "The model made for edge classification has an impressive accuracy with the CoraGraphDataset. However, the models made for node or graph classifications didn't perform as accurately as the model made for the edge classification."
   ]
  }
 ],
 "metadata": {
  "kernelspec": {
   "display_name": "Python 3",
   "language": "python",
   "name": "python3"
  },
  "language_info": {
   "codemirror_mode": {
    "name": "ipython",
    "version": 3
   },
   "file_extension": ".py",
   "mimetype": "text/x-python",
   "name": "python",
   "nbconvert_exporter": "python",
   "pygments_lexer": "ipython3",
   "version": "3.7.7"
  }
 },
 "nbformat": 4,
 "nbformat_minor": 4
}
