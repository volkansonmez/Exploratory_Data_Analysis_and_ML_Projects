{
 "cells": [
  {
   "cell_type": "markdown",
   "metadata": {},
   "source": [
    "### Notebook by [Volkan Sonmez](http://www.pythonicfool.com/)  \n",
    "### Digits recognition with Pytorch and Tensorflow (TF_Keras) on MNIST Dataset\n",
    "##### [Pythonicfool GitHub Repository](https://github.com/volkansonmez/Exploratory_Data_Analysis_and_ML_Projects)\n"
   ]
  },
  {
   "cell_type": "markdown",
   "metadata": {},
   "source": [
    "## Table of contents\n",
    "\n",
    "1. [Introduction](#Introduction)\n",
    "\n",
    "2. [EDA and Building ML Models](#EDA_and_Building_ML_Models)\n",
    "    \n",
    "3. [Pytorch_Model](#Pytorch_Model)\n",
    "   \n",
    "4. [Tensorflow.Keras_Model](#Tensorflow.Keras_Model)\n",
    "\n",
    "5. [Conclusion](#Conclusion)"
   ]
  },
  {
   "cell_type": "markdown",
   "metadata": {},
   "source": [
    "## Introduction\n",
    "\n",
    "[[ go back to the top ]](#Table-of-contents)\n",
    "\n",
    "MNIST is a large dataset of handwritten digits (0 to 9) that is commonly used for training various image processing systems containing 60,000 training images and 10,000 testing images. Each image has 28x28 pixels. Recognizing digits is a multi-class logistic regression problem. \n",
    "    \n",
    "> MNIST dataset can be downloaded from: https://www.kaggle.com/oddrationale/mnist-in-csv  \n",
    "\n",
    "In this notebook, the MNIST dataset was trained on PyTorch and Keras (Tensorflow) packages, and their performances were tested. Both models have identical architecture. The order of layers was picked with this configuration: \n",
    "> (2 x (Conv Layer, Regularization, Max Pool Layer, Activation Function) + a fully connected layer.) \n",
    "\n",
    "The logits of FCL were then passed to the softmax function. "
   ]
  },
  {
   "cell_type": "markdown",
   "metadata": {},
   "source": [
    "## EDA_and_Building_ML_Model\n",
    "\n",
    "[[ go back to the top ]](#Table-of-contents)\n",
    "\n",
    "This notebook uses several Python packages that come standard with the Anaconda Python distribution. \n",
    "The primary libraries you need to run this notebook are:\n",
    "\n",
    "* **NumPy**: Provides a fast numerical array structure and helper functions.\n",
    "* **pandas**: Provides a DataFrame structure to store data in memory and work with it easily and efficiently.\n",
    "* **scikit-learn**: The essential Machine Learning package in Python.\n",
    "* **matplotlib**: Basic plotting library in Python; most other Python plotting libraries are built on top of it.\n",
    "* **Seaborn**: Advanced statistical plotting library.\n",
    "\n",
    "To make sure you have all of the packages you need, install them with `conda`:\n",
    "\n",
    "    conda install numpy pandas matplotlib tensorflow pytorch seaborn\n",
    "\n",
    "How to do it: \n",
    "\n",
    "The dataset is in .csv format so it is very easy to read it with pandas library. View some of the instances with the matplotlib.pyplot.imshow module. \n",
    "\n",
    "Use torch.utils.data.DataLoader module to create iterable batches of training and test sets for the PyTorch model. \n",
    "\n",
    ">Using Pytorch: \n",
    "\n",
    "Create a model by using the torch.nn module. Here is a rule of thumb architecture for a very simple model: 2 x (Conv Layer, Regularization, Max Pool Layer, Activation Function) + 1 FCL + Softmax. The cross-entropy loss function should be used since this is a multi-class logistic regression problem. For the sake of simplicity, default hyper-parameters were used both for the optimizer and loss functions.\n",
    "\n",
    "\n",
    ">Using Tensorflow-Keras: \n",
    "\n",
    "Like building pytorch's easy-to-build sequential model, TensorFlow has Keras module. The same architecture above can be written just with 10 lines of code. \n",
    "\n",
    "Compare the results of these two models. "
   ]
  },
  {
   "cell_type": "markdown",
   "metadata": {},
   "source": [
    "#### Exploratory Data Analysis of MNIST and the Machine Learning Modeling of MNIST Dataset with PyTorch and Tf-Keras\n"
   ]
  },
  {
   "cell_type": "code",
   "execution_count": 1,
   "metadata": {},
   "outputs": [],
   "source": [
    "# Import the necessary libraries\n",
    "\n",
    "import torch\n",
    "import torchvision\n",
    "import numpy as np\n",
    "import matplotlib.pyplot as plt\n",
    "import seaborn as sns\n",
    "import pandas as pd\n",
    "%matplotlib inline"
   ]
  },
  {
   "cell_type": "code",
   "execution_count": 2,
   "metadata": {},
   "outputs": [],
   "source": [
    "# Download the MNIST dataset to the same working folder. Load the data into pandas dataframe.\n",
    "\n",
    "train = pd.read_csv(\"train.csv\")\n",
    "test = pd.read_csv(\"test.csv\")"
   ]
  },
  {
   "cell_type": "code",
   "execution_count": 3,
   "metadata": {},
   "outputs": [
    {
     "name": "stdout",
     "output_type": "stream",
     "text": [
      "(42000, 785) (28000, 784)\n",
      "              label   pixel0   pixel1   pixel2   pixel3   pixel4   pixel5  \\\n",
      "count  42000.000000  42000.0  42000.0  42000.0  42000.0  42000.0  42000.0   \n",
      "mean       4.456643      0.0      0.0      0.0      0.0      0.0      0.0   \n",
      "std        2.887730      0.0      0.0      0.0      0.0      0.0      0.0   \n",
      "min        0.000000      0.0      0.0      0.0      0.0      0.0      0.0   \n",
      "25%        2.000000      0.0      0.0      0.0      0.0      0.0      0.0   \n",
      "50%        4.000000      0.0      0.0      0.0      0.0      0.0      0.0   \n",
      "75%        7.000000      0.0      0.0      0.0      0.0      0.0      0.0   \n",
      "max        9.000000      0.0      0.0      0.0      0.0      0.0      0.0   \n",
      "\n",
      "        pixel6   pixel7   pixel8  ...      pixel774      pixel775  \\\n",
      "count  42000.0  42000.0  42000.0  ...  42000.000000  42000.000000   \n",
      "mean       0.0      0.0      0.0  ...      0.219286      0.117095   \n",
      "std        0.0      0.0      0.0  ...      6.312890      4.633819   \n",
      "min        0.0      0.0      0.0  ...      0.000000      0.000000   \n",
      "25%        0.0      0.0      0.0  ...      0.000000      0.000000   \n",
      "50%        0.0      0.0      0.0  ...      0.000000      0.000000   \n",
      "75%        0.0      0.0      0.0  ...      0.000000      0.000000   \n",
      "max        0.0      0.0      0.0  ...    254.000000    254.000000   \n",
      "\n",
      "           pixel776     pixel777      pixel778      pixel779  pixel780  \\\n",
      "count  42000.000000  42000.00000  42000.000000  42000.000000   42000.0   \n",
      "mean       0.059024      0.02019      0.017238      0.002857       0.0   \n",
      "std        3.274488      1.75987      1.894498      0.414264       0.0   \n",
      "min        0.000000      0.00000      0.000000      0.000000       0.0   \n",
      "25%        0.000000      0.00000      0.000000      0.000000       0.0   \n",
      "50%        0.000000      0.00000      0.000000      0.000000       0.0   \n",
      "75%        0.000000      0.00000      0.000000      0.000000       0.0   \n",
      "max      253.000000    253.00000    254.000000     62.000000       0.0   \n",
      "\n",
      "       pixel781  pixel782  pixel783  \n",
      "count   42000.0   42000.0   42000.0  \n",
      "mean        0.0       0.0       0.0  \n",
      "std         0.0       0.0       0.0  \n",
      "min         0.0       0.0       0.0  \n",
      "25%         0.0       0.0       0.0  \n",
      "50%         0.0       0.0       0.0  \n",
      "75%         0.0       0.0       0.0  \n",
      "max         0.0       0.0       0.0  \n",
      "\n",
      "[8 rows x 785 columns]\n",
      "0    1\n",
      "1    0\n",
      "2    1\n",
      "3    4\n",
      "4    0\n",
      "Name: label, dtype: int64\n"
     ]
    }
   ],
   "source": [
    "# View the properties of the dataframe\n",
    "\n",
    "print(train.shape, test.shape)\n",
    "print(train.describe())\n",
    "print(train['label'].head())"
   ]
  },
  {
   "cell_type": "code",
   "execution_count": 4,
   "metadata": {},
   "outputs": [
    {
     "name": "stdout",
     "output_type": "stream",
     "text": [
      "[0, 1, 2, 3, 4, 5, 6, 7, 8, 9]\n"
     ]
    },
    {
     "data": {
      "text/plain": [
       "<matplotlib.axes._subplots.AxesSubplot at 0x7fef195c6f90>"
      ]
     },
     "execution_count": 4,
     "metadata": {},
     "output_type": "execute_result"
    },
    {
     "data": {
      "image/png": "[encoded data removed]",
      "text/plain": [
       "<Figure size 432x288 with 1 Axes>"
      ]
     },
     "metadata": {
      "needs_background": "light"
     },
     "output_type": "display_data"
    }
   ],
   "source": [
    "# View the target values in the data\n",
    "\n",
    "Y_train = train[\"label\"]\n",
    "X_train = train.drop(\"label\", axis = 1) # all the data except the labels\n",
    "print(sorted(Y_train.unique()))\n",
    "sns.countplot(Y_train)"
   ]
  },
  {
   "cell_type": "code",
   "execution_count": 5,
   "metadata": {},
   "outputs": [
    {
     "name": "stdout",
     "output_type": "stream",
     "text": [
      "(42000,)\n",
      "4132\n"
     ]
    }
   ],
   "source": [
    "# Convert the dataframe into an n-dimensional numpy array\n",
    "\n",
    "X_train = np.array(X_train)\n",
    "Y_train = np.array(Y_train)\n",
    "print(Y_train.shape) # check the shape\n",
    "print(len(X_train[Y_train == 0])) # view the number of instances represent 0 on the dataset"
   ]
  },
  {
   "cell_type": "code",
   "execution_count": 6,
   "metadata": {},
   "outputs": [
    {
     "name": "stdout",
     "output_type": "stream",
     "text": [
      "(784,)\n"
     ]
    },
    {
     "data": {
      "image/png": "[encoded data removed]",
      "text/plain": [
       "<Figure size 432x288 with 1 Axes>"
      ]
     },
     "metadata": {
      "needs_background": "light"
     },
     "output_type": "display_data"
    }
   ],
   "source": [
    "# View a random instance with imshow module.\n",
    "\n",
    "plt.imshow(X_train[0].reshape(28,28), cmap = plt.cm.binary)\n",
    "print(X_train[0].shape)"
   ]
  },
  {
   "cell_type": "code",
   "execution_count": 7,
   "metadata": {},
   "outputs": [
    {
     "data": {
      "image/png": "[encoded data removed]",
      "text/plain": [
       "<Figure size 432x288 with 10 Axes>"
      ]
     },
     "metadata": {},
     "output_type": "display_data"
    }
   ],
   "source": [
    "# View a sample instance from all 10 different labels\n",
    "\n",
    "fig, ax = plt.subplots(nrows=1, ncols=10, sharex=True, sharey=True)\n",
    "for i in range(10):\n",
    "    img = X_train[Y_train == i][0].reshape(28, 28)\n",
    "    ax[i].imshow(img,  cmap='Greys')\n",
    "\n",
    "ax[0].set_xticks([])\n",
    "ax[0].set_yticks([])\n",
    "plt.show()"
   ]
  },
  {
   "cell_type": "code",
   "execution_count": 8,
   "metadata": {},
   "outputs": [
    {
     "data": {
      "image/png": "[encoded data removed]",
      "text/plain": [
       "<Figure size 432x288 with 10 Axes>"
      ]
     },
     "metadata": {},
     "output_type": "display_data"
    }
   ],
   "source": [
    "# View the different instances under the same category (target value)\n",
    "\n",
    "fig, ax = plt.subplots(nrows=1, ncols=10, sharex=True, sharey=True,)\n",
    "for i in range(10):\n",
    "    img = X_train[Y_train == 1][i].reshape(28, 28)\n",
    "    ax[i].imshow(img, cmap='Greys')\n",
    "\n",
    "ax[0].set_xticks([])\n",
    "ax[0].set_yticks([])\n",
    "plt.show()"
   ]
  },
  {
   "cell_type": "markdown",
   "metadata": {},
   "source": [
    "#### End of Explatory Data Analysis and Beginning of the NN model with CNNs ####"
   ]
  },
  {
   "cell_type": "markdown",
   "metadata": {},
   "source": [
    "## Pytorch_Model\n",
    "\n",
    "[[ go back to the top ]](#Table-of-contents)"
   ]
  },
  {
   "cell_type": "markdown",
   "metadata": {},
   "source": [
    "Using Torch and CNN, here is the NN architecture to develop a ML model that can predict digits with 98% accuracy: \n",
    "\n",
    "Upload the data from torchvision datasets instead of using the dataset downloaded earlier.\n",
    "Build this model: input ---> conv1, dropout1, maxpool1, relu1, conv2, dropout2, maxpool2, fcl, softmax ---> output\n",
    "\n",
    "Here is the size and shape of each layer and the explanation of the forward propagation:\n",
    "\n",
    "1 x 28 x 28 ---> (1,10) 5x5 conv1 ----> 10 x 24 x 24 -----> dropout----> maxpool(2,2) ----> 10 x 12 x 12 ----> \n",
    "relu ----> (10,20) 5x5 conv2 ---->  \n",
    "\n",
    "20 x 8 x 8  -----> dropout -----> maxpool2(2,2) ----> 20 x 4 x 4 ----> fcl (320, 10) ----> softmax <----> LOSS \n",
    "\n",
    "Note: Use relu activation function right after maxpools for regularization to achieve best results."
   ]
  },
  {
   "cell_type": "code",
   "execution_count": 9,
   "metadata": {},
   "outputs": [
    {
     "name": "stdout",
     "output_type": "stream",
     "text": [
      "Downloading http://yann.lecun.com/exdb/mnist/train-images-idx3-ubyte.gz to ../mnist_data/MNIST/raw/train-images-idx3-ubyte.gz\n"
     ]
    },
    {
     "data": {
      "application/vnd.jupyter.widget-view+json": {
       "model_id": "04a713ac079c4b77b9f0c9db5fe267c2",
       "version_major": 2,
       "version_minor": 0
      },
      "text/plain": [
       "HBox(children=(FloatProgress(value=1.0, bar_style='info', max=1.0), HTML(value='')))"
      ]
     },
     "metadata": {},
     "output_type": "display_data"
    },
    {
     "name": "stdout",
     "output_type": "stream",
     "text": [
      "Extracting ../mnist_data/MNIST/raw/train-images-idx3-ubyte.gz to ../mnist_data/MNIST/raw\n",
      "Downloading http://yann.lecun.com/exdb/mnist/train-labels-idx1-ubyte.gz to ../mnist_data/MNIST/raw/train-labels-idx1-ubyte.gz\n"
     ]
    },
    {
     "data": {
      "application/vnd.jupyter.widget-view+json": {
       "model_id": "a558d583dc6a42658920032ef603da5f",
       "version_major": 2,
       "version_minor": 0
      },
      "text/plain": [
       "HBox(children=(FloatProgress(value=1.0, bar_style='info', max=1.0), HTML(value='')))"
      ]
     },
     "metadata": {},
     "output_type": "display_data"
    },
    {
     "name": "stdout",
     "output_type": "stream",
     "text": [
      "Extracting ../mnist_data/MNIST/raw/train-labels-idx1-ubyte.gz to ../mnist_data/MNIST/raw\n",
      "Downloading http://yann.lecun.com/exdb/mnist/t10k-images-idx3-ubyte.gz to ../mnist_data/MNIST/raw/t10k-images-idx3-ubyte.gz\n"
     ]
    },
    {
     "data": {
      "application/vnd.jupyter.widget-view+json": {
       "model_id": "2b3de7dfd61e4828afe941f517592b03",
       "version_major": 2,
       "version_minor": 0
      },
      "text/plain": [
       "HBox(children=(FloatProgress(value=1.0, bar_style='info', max=1.0), HTML(value='')))"
      ]
     },
     "metadata": {},
     "output_type": "display_data"
    },
    {
     "name": "stdout",
     "output_type": "stream",
     "text": [
      "Extracting ../mnist_data/MNIST/raw/t10k-images-idx3-ubyte.gz to ../mnist_data/MNIST/raw\n",
      "Downloading http://yann.lecun.com/exdb/mnist/t10k-labels-idx1-ubyte.gz to ../mnist_data/MNIST/raw/t10k-labels-idx1-ubyte.gz\n"
     ]
    },
    {
     "data": {
      "application/vnd.jupyter.widget-view+json": {
       "model_id": "9c1bbd0487204c3b817d4085a29dbaea",
       "version_major": 2,
       "version_minor": 0
      },
      "text/plain": [
       "HBox(children=(FloatProgress(value=1.0, bar_style='info', max=1.0), HTML(value='')))"
      ]
     },
     "metadata": {},
     "output_type": "display_data"
    },
    {
     "name": "stdout",
     "output_type": "stream",
     "text": [
      "Extracting ../mnist_data/MNIST/raw/t10k-labels-idx1-ubyte.gz to ../mnist_data/MNIST/raw\n",
      "Processing...\n"
     ]
    },
    {
     "name": "stderr",
     "output_type": "stream",
     "text": [
      "/Users/volkansonmez/miniconda/lib/python3.7/site-packages/torchvision/datasets/mnist.py:469: UserWarning: The given NumPy array is not writeable, and PyTorch does not support non-writeable tensors. This means you can write to the underlying (supposedly non-writeable) NumPy array using the tensor. You may want to copy the array to protect its data or make it writeable before converting it to a tensor. This type of warning will be suppressed for the rest of this program. (Triggered internally at  ../torch/csrc/utils/tensor_numpy.cpp:143.)\n",
      "  return torch.from_numpy(parsed.astype(m[2], copy=False)).view(*s)\n"
     ]
    },
    {
     "name": "stdout",
     "output_type": "stream",
     "text": [
      "Done!\n",
      "\n",
      "\n",
      "loss is: 2.2543179988861084\n",
      "loss is: 0.1970173716545105\n",
      "loss is: 0.22992321848869324\n",
      "loss is: 0.056348931044340134\n",
      "loss is: 2.9585873562609777e-05\n",
      "loss is: 0.7805323600769043\n",
      "loss is: 0.0032805223017930984\n",
      "loss is: 0.0011950669577345252\n",
      "loss is: 0.038494713604450226\n",
      "loss is: 0.014764678664505482\n",
      "loss is: 0.0004260221030563116\n",
      "loss is: 0.0009565182263031602\n",
      "loss is: 8.678420272190124e-05\n",
      "loss is: 0.00027247617254033685\n",
      "loss is: 0.006663521286100149\n",
      "accuracy is: 98.0199966430664\n"
     ]
    }
   ],
   "source": [
    "# Create the model with Pytorch\n",
    "\n",
    "import torch\n",
    "import torch.nn as nn\n",
    "import torch.nn.functional as F\n",
    "import torch.optim as optim\n",
    "from torchvision import datasets, transforms\n",
    "from torch.autograd import Variable\n",
    "\n",
    "# Download and normalize the training dataset\n",
    "train_loader = torch.utils.data.DataLoader(datasets.MNIST('../mnist_data', download=True, train=True,\n",
    "                                                          transform=transforms.Compose([\n",
    "                                                          transforms.ToTensor(), \n",
    "                                                          transforms.Normalize((0.1307,), (0.3081,))\n",
    "                                                          ])), batch_size=10, shuffle=True)\n",
    "\n",
    "# Download and normalize the testing dataset\n",
    "test_loader = torch.utils.data.DataLoader(datasets.MNIST('../mnist_data', download=True, train=False,\n",
    "                                                          transform=transforms.Compose([\n",
    "                                                              transforms.ToTensor(), \n",
    "                                                              transforms.Normalize((0.1307,), (0.3081,)) \n",
    "                                                          ])), batch_size=10, shuffle=True)\n",
    "\n",
    "\n",
    "device = 'cpu'\n",
    "class Net(torch.nn.Module):\n",
    "    def __init__(self):\n",
    "        torch.nn.Module.__init__(self)\n",
    "        self.conv1 = torch.nn.Conv2d(1, 10, kernel_size = 5) # in , out, kernel size\n",
    "        self.conv2 = torch.nn.Conv2d(10, 20, kernel_size = 5) # in , out, kerner size\n",
    "        self.fcl1 = torch.nn.Linear(320, 10) # in, out \n",
    "        \n",
    "        \n",
    "    def forward(self, x):\n",
    "        x = self.conv1(x)  # input 1 x 28 x 28 ---> (1,10) 5x5 conv1 ----> output 10 x 24 x 24 \n",
    "        x = torch.nn.functional.dropout(x) # 10 x 24 x 24 \n",
    "        x = torch.nn.functional.max_pool2d(x, 2) # maxpool1(2,2) ----> 10 x 12 x 12 \n",
    "        x = torch.relu(x) # 10 x 12 x 12 \n",
    "        x = self.conv2(x) # input 10 x 12 x 12 ----> (10,20) 5x5 conv2 ----> output 20 x 8 x 8 \n",
    "        x = torch.nn.functional.dropout(x) # 20 x 8 x 8 \n",
    "        x = torch.nn.functional.max_pool2d(x, 2) # maxpool2(2,2) ----> 20 x 4 x 4\n",
    "        x = torch.relu(x) # 20 x 4 x 4\n",
    "        x = x.view(-1, 320) # input 20 x 4 x 4 ----> output (1 x 320)\n",
    "        x = self.fcl1(x) # input (1 x 320)----> output (10)\n",
    "        x = torch.nn.functional.log_softmax(x, dim = 1) # output softmax of 10 scores \n",
    "        return x\n",
    "        \n",
    "net = Net().to(device)\n",
    "optimizer = torch.optim.Adam(net.parameters())\n",
    "criterion = torch.nn.CrossEntropyLoss()\n",
    "model_parameters = {}\n",
    "\n",
    "def train(epoch, save = False):\n",
    "    net.train() # this is the built-in \"train\" function of the sequential NN model.\n",
    "    for ep in range(epoch):\n",
    "        for idx , (image, label) in enumerate(train_loader): \n",
    "            # forward pass\n",
    "            fwd = net.forward(image)\n",
    "            # loss\n",
    "            loss = criterion(fwd, label)\n",
    "            # print loss\n",
    "            if idx % 6000 == 0: # each batch is 64 instances\n",
    "                print('loss is: {}'.format(loss))\n",
    "                # print('shape of input', image.shape)\n",
    "            # zero the grads\n",
    "            optimizer.zero_grad()\n",
    "            # backward pass\n",
    "            loss.backward()\n",
    "            # update the parameters\n",
    "            optimizer.step()\n",
    "        if save:\n",
    "        # save the trained model parameters\n",
    "            model_parameters = {'model': net.state_dict() , 'optim' : optimizer.state_dict()}\n",
    "            path = 'model_params{}.pth'.format(ep) # save the model parameters under the current working directory\n",
    "            torch.save(model_parameters , path)\n",
    "            print('model parameters is saved: {}'.format(path))\n",
    "    #test the data\n",
    "    test()\n",
    "        \n",
    "        \n",
    "def test():\n",
    "    correct = 0\n",
    "    test_loss = 0\n",
    "    net.eval()\n",
    "    with torch.no_grad():\n",
    "        for idx , (image, label) in enumerate(test_loader):\n",
    "            # forward pass\n",
    "            logit = net(image)\n",
    "            # calculate loss\n",
    "            test_loss += criterion(logit, label).sum()\n",
    "            # compare logit and actual results\n",
    "            pred_idx = logit.max(1, keepdim = True)[1] # it is the np.argmax on axis = 1\n",
    "            correct += pred_idx.eq(label.view_as(pred_idx)).sum()\n",
    "    accuracy = 100 * correct / float(len(test_loader.dataset))\n",
    "    print('accuracy is: {}'.format(accuracy))\n",
    "    \n",
    "\n",
    "        \n",
    "train(15, save = False) # this is an intentional overfit to observe the fluctuations in the loss values below"
   ]
  },
  {
   "cell_type": "markdown",
   "metadata": {},
   "source": [
    "## Tensorflow.Keras_Model\n",
    "\n",
    "[[ go back to the top ]](#Table-of-contents)"
   ]
  },
  {
   "cell_type": "code",
   "execution_count": 10,
   "metadata": {},
   "outputs": [],
   "source": [
    "# Using TF Keras for the same problem with a pre-fixed 2 fcl architecture for warm up:\n",
    "# Uploading data from keras datasets instead of using the torchvision dataset\n",
    "\n",
    "import warnings\n",
    "warnings.simplefilter(action='ignore', category=FutureWarning)\n",
    "\n",
    "import tensorflow as tf\n",
    "mnist = tf.keras.datasets.mnist # 28 x 28 images of hand-written digits\n",
    "(x_train, y_train), (x_test, y_test) = mnist.load_data()\n"
   ]
  },
  {
   "cell_type": "code",
   "execution_count": 11,
   "metadata": {},
   "outputs": [
    {
     "data": {
      "text/plain": [
       "<matplotlib.image.AxesImage at 0x7feec6a9b9d0>"
      ]
     },
     "execution_count": 11,
     "metadata": {},
     "output_type": "execute_result"
    },
    {
     "data": {
      "image/png": "[encoded data removed]",
      "text/plain": [
       "<Figure size 432x288 with 1 Axes>"
      ]
     },
     "metadata": {
      "needs_background": "light"
     },
     "output_type": "display_data"
    }
   ],
   "source": [
    "plt.imshow(x_train[0], cmap = plt.cm.binary) # see if it is working"
   ]
  },
  {
   "cell_type": "code",
   "execution_count": 12,
   "metadata": {},
   "outputs": [
    {
     "name": "stdout",
     "output_type": "stream",
     "text": [
      "(60000, 28, 28)\n",
      "[  0   0   0   0   0   0   0   0   0  14   1 154 253  90   0   0   0   0\n",
      "   0   0   0   0   0   0   0   0   0   0]\n"
     ]
    }
   ],
   "source": [
    "print(x_train.shape) # taking a peek at the shape of the array \n",
    "print(x_train[0][10]) # the numbers in the array are between 0-254"
   ]
  },
  {
   "cell_type": "code",
   "execution_count": 13,
   "metadata": {},
   "outputs": [],
   "source": [
    "# normalize the array\n",
    "x_train = tf.keras.utils.normalize(x_train, axis = 1)\n",
    "x_test = tf.keras.utils.normalize(x_test, axis = 1)"
   ]
  },
  {
   "cell_type": "code",
   "execution_count": 14,
   "metadata": {},
   "outputs": [
    {
     "name": "stdout",
     "output_type": "stream",
     "text": [
      "[0.         0.         0.         0.         0.         0.\n",
      " 0.         0.         0.         0.0253731  0.00171577 0.22713296\n",
      " 0.33153488 0.11664776 0.         0.         0.         0.\n",
      " 0.         0.         0.         0.         0.         0.\n",
      " 0.         0.         0.         0.        ]\n"
     ]
    }
   ],
   "source": [
    "print(x_train[0][10])"
   ]
  },
  {
   "cell_type": "code",
   "execution_count": 15,
   "metadata": {},
   "outputs": [
    {
     "name": "stdout",
     "output_type": "stream",
     "text": [
      "WARNING:tensorflow:From /Users/volkansonmez/miniconda/lib/python3.7/site-packages/tensorflow/python/ops/init_ops.py:1251: calling VarianceScaling.__init__ (from tensorflow.python.ops.init_ops) with dtype is deprecated and will be removed in a future version.\n",
      "Instructions for updating:\n",
      "Call initializer instance with the dtype argument instead of passing it to the constructor\n",
      "Epoch 1/15\n",
      "60000/60000 [==============================] - 5s 86us/sample - loss: 0.2670\n",
      "Epoch 2/15\n",
      "60000/60000 [==============================] - 8s 131us/sample - loss: 0.1090s - l\n",
      "Epoch 3/15\n",
      "60000/60000 [==============================] - 5s 79us/sample - loss: 0.07240s \n",
      "Epoch 4/15\n",
      "60000/60000 [==============================] - 4s 67us/sample - loss: 0.0537\n",
      "Epoch 5/15\n",
      "60000/60000 [==============================] - 4s 71us/sample - loss: 0.0415\n",
      "Epoch 6/15\n",
      "60000/60000 [==============================] - 4s 71us/sample - loss: 0.0315\n",
      "Epoch 7/15\n",
      "60000/60000 [==============================] - 4s 73us/sample - loss: 0.0260\n",
      "Epoch 8/15\n",
      "60000/60000 [==============================] - 5s 82us/sample - loss: 0.0218\n",
      "Epoch 9/15\n",
      "60000/60000 [==============================] - 4s 69us/sample - loss: 0.0185\n",
      "Epoch 10/15\n",
      "60000/60000 [==============================] - 5s 76us/sample - loss: 0.01500s - lo\n",
      "Epoch 11/15\n",
      "60000/60000 [==============================] - 4s 75us/sample - loss: 0.0143\n",
      "Epoch 12/15\n",
      "60000/60000 [==============================] - 5s 81us/sample - loss: 0.0122\n",
      "Epoch 13/15\n",
      "60000/60000 [==============================] - 5s 81us/sample - loss: 0.0110\n",
      "Epoch 14/15\n",
      "60000/60000 [==============================] - 5s 86us/sample - loss: 0.0121\n",
      "Epoch 15/15\n",
      "60000/60000 [==============================] - 5s 77us/sample - loss: 0.0079\n"
     ]
    },
    {
     "data": {
      "text/plain": [
       "<tensorflow.python.keras.callbacks.History at 0x7feec6ae35d0>"
      ]
     },
     "execution_count": 15,
     "metadata": {},
     "output_type": "execute_result"
    }
   ],
   "source": [
    "# INPUT ---> FCL, RELU, FCL, RELU, SOFTMAX ---> OUTPUT\n",
    "model = tf.keras.models.Sequential()\n",
    "model.add(tf.keras.layers.Flatten())\n",
    "model.add(tf.keras.layers.Dense(128, activation = tf.nn.relu))\n",
    "model.add(tf.keras.layers.Dense(128, activation = tf.nn.relu))\n",
    "model.add(tf.keras.layers.Dense(10, activation = tf.nn.softmax))\n",
    "\n",
    "model.compile(optimizer ='adam', loss = 'sparse_categorical_crossentropy', metris = ['accuracy'])\n",
    "model.fit(x_train, y_train, epochs = 15) # intentionally overfitted to see the loss value fluctuation"
   ]
  },
  {
   "cell_type": "code",
   "execution_count": 16,
   "metadata": {},
   "outputs": [
    {
     "name": "stdout",
     "output_type": "stream",
     "text": [
      "10000/10000 [==============================] - 0s 39us/sample - loss: 0.1392\n",
      "0.13918904686260297\n"
     ]
    }
   ],
   "source": [
    "print(model.evaluate(x_test, y_test, verbose = 1)) # view the loss"
   ]
  },
  {
   "cell_type": "code",
   "execution_count": 17,
   "metadata": {},
   "outputs": [],
   "source": [
    "test_results = np.array(model.predict(x_test))\n",
    "test_labels = np.array(y_test)\n",
    "test_results = np.argmax(test_results, axis = 1)\n",
    "assert (len(test_results == test_labels))"
   ]
  },
  {
   "cell_type": "code",
   "execution_count": 18,
   "metadata": {},
   "outputs": [
    {
     "name": "stdout",
     "output_type": "stream",
     "text": [
      "0.9738\n"
     ]
    }
   ],
   "source": [
    "# calculate accuracy\n",
    "print(np.mean(test_results[:] == test_labels[:])) # This model is missing the maxpool layers. Let's add them."
   ]
  },
  {
   "cell_type": "code",
   "execution_count": 19,
   "metadata": {},
   "outputs": [
    {
     "name": "stdout",
     "output_type": "stream",
     "text": [
      "x_train shape: (60000, 28, 28, 1)\n",
      "60000 train samples\n",
      "10000 test samples\n"
     ]
    }
   ],
   "source": [
    "# Now, it is time to build a good convolutional network with Keras. Like the one built with pytorch above\n",
    "# Here is the original code at Keras for MNIST:\n",
    "# https://keras.io/examples/vision/mnist_convnet/  \n",
    "\n",
    "from tensorflow import keras\n",
    "from tensorflow.keras import layers\n",
    "# Model / data parameters\n",
    "num_classes = 10\n",
    "input_shape = (28, 28, 1)\n",
    "\n",
    "# the data, split between train and test sets\n",
    "(x_train, y_train), (x_test, y_test) = keras.datasets.mnist.load_data()\n",
    "\n",
    "# Scale images to the [0, 1] range\n",
    "x_train = x_train.astype(\"float32\") / 255\n",
    "x_test = x_test.astype(\"float32\") / 255\n",
    "# Make sure images have shape (28, 28, 1)\n",
    "x_train = np.expand_dims(x_train, -1)\n",
    "x_test = np.expand_dims(x_test, -1)\n",
    "print(\"x_train shape:\", x_train.shape)\n",
    "print(x_train.shape[0], \"train samples\")\n",
    "print(x_test.shape[0], \"test samples\")\n",
    "\n",
    "\n",
    "# convert class vectors to binary class matrices\n",
    "y_train = keras.utils.to_categorical(y_train, num_classes)\n",
    "y_test = keras.utils.to_categorical(y_test, num_classes)"
   ]
  },
  {
   "cell_type": "code",
   "execution_count": 20,
   "metadata": {},
   "outputs": [
    {
     "name": "stdout",
     "output_type": "stream",
     "text": [
      "Model: \"sequential_1\"\n",
      "_________________________________________________________________\n",
      "Layer (type)                 Output Shape              Param #   \n",
      "=================================================================\n",
      "conv2d (Conv2D)              (None, 26, 26, 32)        320       \n",
      "_________________________________________________________________\n",
      "max_pooling2d (MaxPooling2D) (None, 13, 13, 32)        0         \n",
      "_________________________________________________________________\n",
      "conv2d_1 (Conv2D)            (None, 11, 11, 64)        18496     \n",
      "_________________________________________________________________\n",
      "max_pooling2d_1 (MaxPooling2 (None, 5, 5, 64)          0         \n",
      "_________________________________________________________________\n",
      "flatten_1 (Flatten)          (None, 1600)              0         \n",
      "_________________________________________________________________\n",
      "dropout (Dropout)            (None, 1600)              0         \n",
      "_________________________________________________________________\n",
      "dense_3 (Dense)              (None, 10)                16010     \n",
      "=================================================================\n",
      "Total params: 34,826\n",
      "Trainable params: 34,826\n",
      "Non-trainable params: 0\n",
      "_________________________________________________________________\n"
     ]
    }
   ],
   "source": [
    "model = keras.Sequential(\n",
    "    [\n",
    "        keras.Input(shape=input_shape),\n",
    "        layers.Conv2D(32, kernel_size=(3, 3), activation=\"relu\"),\n",
    "        layers.MaxPooling2D(pool_size=(2, 2)),\n",
    "        layers.Conv2D(64, kernel_size=(3, 3), activation=\"relu\"),\n",
    "        layers.MaxPooling2D(pool_size=(2, 2)),\n",
    "        layers.Flatten(),\n",
    "        layers.Dropout(0.5),\n",
    "        layers.Dense(num_classes, activation=\"softmax\"),\n",
    "    ]\n",
    ")\n",
    "\n",
    "model.summary()"
   ]
  },
  {
   "cell_type": "code",
   "execution_count": 21,
   "metadata": {},
   "outputs": [
    {
     "name": "stdout",
     "output_type": "stream",
     "text": [
      "Train on 54000 samples, validate on 6000 samples\n",
      "Epoch 1/15\n",
      "54000/54000 [==============================] - 33s 609us/sample - loss: 0.3662 - acc: 0.8891 - val_loss: 0.0799 - val_acc: 0.9785\n",
      "Epoch 2/15\n",
      "54000/54000 [==============================] - 39s 729us/sample - loss: 0.1086 - acc: 0.9672 - val_loss: 0.0553 - val_acc: 0.9862\n",
      "Epoch 3/15\n",
      "54000/54000 [==============================] - 42s 777us/sample - loss: 0.0831 - acc: 0.9742 - val_loss: 0.0489 - val_acc: 0.9865\n",
      "Epoch 4/15\n",
      "54000/54000 [==============================] - 46s 859us/sample - loss: 0.0677 - acc: 0.9792 - val_loss: 0.0405 - val_acc: 0.9887\n",
      "Epoch 5/15\n",
      "54000/54000 [==============================] - 34s 630us/sample - loss: 0.0611 - acc: 0.9805 - val_loss: 0.0362 - val_acc: 0.9912\n",
      "Epoch 6/15\n",
      "54000/54000 [==============================] - 35s 647us/sample - loss: 0.0525 - acc: 0.9842 - val_loss: 0.0358 - val_acc: 0.9903\n",
      "Epoch 7/15\n",
      "54000/54000 [==============================] - 34s 624us/sample - loss: 0.0494 - acc: 0.9845 - val_loss: 0.0370 - val_acc: 0.9893\n",
      "Epoch 8/15\n",
      "54000/54000 [==============================] - 43s 792us/sample - loss: 0.0459 - acc: 0.9851 - val_loss: 0.0319 - val_acc: 0.9913\n",
      "Epoch 9/15\n",
      "54000/54000 [==============================] - 34s 634us/sample - loss: 0.0431 - acc: 0.9867 - val_loss: 0.0300 - val_acc: 0.9922\n",
      "Epoch 10/15\n",
      "54000/54000 [==============================] - 42s 783us/sample - loss: 0.0403 - acc: 0.9871 - val_loss: 0.0306 - val_acc: 0.9922\n",
      "Epoch 11/15\n",
      "54000/54000 [==============================] - 33s 607us/sample - loss: 0.0398 - acc: 0.9870 - val_loss: 0.0321 - val_acc: 0.9915\n",
      "Epoch 12/15\n",
      "54000/54000 [==============================] - 33s 619us/sample - loss: 0.0367 - acc: 0.9878 - val_loss: 0.0271 - val_acc: 0.9937\n",
      "Epoch 13/15\n",
      "54000/54000 [==============================] - 34s 636us/sample - loss: 0.0349 - acc: 0.9886 - val_loss: 0.0270 - val_acc: 0.9925\n",
      "Epoch 14/15\n",
      "54000/54000 [==============================] - 49s 900us/sample - loss: 0.0332 - acc: 0.9896 - val_loss: 0.0274 - val_acc: 0.9927\n",
      "Epoch 15/15\n",
      "54000/54000 [==============================] - 38s 709us/sample - loss: 0.0315 - acc: 0.9894 - val_loss: 0.0266 - val_acc: 0.9935\n"
     ]
    },
    {
     "data": {
      "text/plain": [
       "<tensorflow.python.keras.callbacks.History at 0x7fee9452b990>"
      ]
     },
     "execution_count": 21,
     "metadata": {},
     "output_type": "execute_result"
    }
   ],
   "source": [
    "batch_size = 128\n",
    "epochs = 15\n",
    "model.compile(loss=\"categorical_crossentropy\", optimizer=\"adam\", metrics=[\"accuracy\"])\n",
    "model.fit(x_train, y_train, batch_size=batch_size, epochs=epochs, validation_split=0.1)"
   ]
  },
  {
   "cell_type": "code",
   "execution_count": 22,
   "metadata": {},
   "outputs": [
    {
     "name": "stdout",
     "output_type": "stream",
     "text": [
      "Test loss: 0.023136143504828215\n",
      "Test accuracy: 0.9927\n"
     ]
    }
   ],
   "source": [
    "score = model.evaluate(x_test, y_test, verbose=0)\n",
    "print(\"Test loss:\", score[0])\n",
    "print(\"Test accuracy:\", score[1])"
   ]
  },
  {
   "cell_type": "markdown",
   "metadata": {},
   "source": [
    "#### save the trained model if needed:\n",
    "> model.save('mnist_2nn_keras')\n",
    "\n",
    "#### create a new model later with the saved model:\n",
    "> new_model = tf.keras.models.load_model('mnist_2nn_keras')"
   ]
  },
  {
   "cell_type": "markdown",
   "metadata": {},
   "source": [
    "## Conclusion\n",
    "\n",
    "[[ go back to the top ]](#Table-of-contents)\n",
    "\n",
    "Both models built with PyTorch and TensorFlow-Keras, have around 98 to 99 percent accuracy for the MNIST dataset. Tuning the hyper-parameters would yield even better results. "
   ]
  }
 ],
 "metadata": {
  "kernelspec": {
   "display_name": "Python 3",
   "language": "python",
   "name": "python3"
  },
  "language_info": {
   "codemirror_mode": {
    "name": "ipython",
    "version": 3
   },
   "file_extension": ".py",
   "mimetype": "text/x-python",
   "name": "python",
   "nbconvert_exporter": "python",
   "pygments_lexer": "ipython3",
   "version": "3.7.7"
  }
 },
 "nbformat": 4,
 "nbformat_minor": 4
}
